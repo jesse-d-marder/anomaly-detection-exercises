{
 "cells": [
  {
   "cell_type": "code",
   "execution_count": 2,
   "id": "088f5652-5c92-4101-bd5f-d69d89049a51",
   "metadata": {},
   "outputs": [],
   "source": [
    "import pandas as pd\n",
    "import numpy as np\n",
    "import matplotlib.pyplot as plt\n",
    "import seaborn as sns\n",
    "\n",
    "from env import get_db_url\n",
    "\n",
    "import warnings\n",
    "warnings.filterwarnings(\"ignore\")\n"
   ]
  },
  {
   "cell_type": "markdown",
   "id": "75511553-ada6-433a-84b9-57d77f29bdf4",
   "metadata": {},
   "source": [
    "Go through the lesson commenting code, adding docstrings, and adding markdown to support what is happening.\n",
    "\n",
    "Bonus:\n",
    "\n",
    "Discover users who are accessing our curriculum pages way beyond the end of their codeup time. What would the dataframe look like? Use time series method for detecting anomalies, like exponential moving average with %b.\n",
    "\n",
    "Can you label students who are viewing both the web dev and data science curriculum? Can you label students by the program they are in? Can you label users by student vs. staff?"
   ]
  },
  {
   "cell_type": "code",
   "execution_count": 13,
   "id": "7e72a5ec-2897-4cbd-82e0-b58a899f5acf",
   "metadata": {},
   "outputs": [],
   "source": [
    "query = \"\"\"SELECT * FROM logs LEFT JOIN cohorts ON logs.user_id = cohorts.id\"\"\"\n",
    "df = pd.read_sql(query, get_db_url('curriculum_logs'))"
   ]
  },
  {
   "cell_type": "code",
   "execution_count": 16,
   "id": "0450b699-91a0-436e-9885-767cf684a3b5",
   "metadata": {},
   "outputs": [
    {
     "data": {
      "text/html": [
       "<div>\n",
       "<style scoped>\n",
       "    .dataframe tbody tr th:only-of-type {\n",
       "        vertical-align: middle;\n",
       "    }\n",
       "\n",
       "    .dataframe tbody tr th {\n",
       "        vertical-align: top;\n",
       "    }\n",
       "\n",
       "    .dataframe thead th {\n",
       "        text-align: right;\n",
       "    }\n",
       "</style>\n",
       "<table border=\"1\" class=\"dataframe\">\n",
       "  <thead>\n",
       "    <tr style=\"text-align: right;\">\n",
       "      <th></th>\n",
       "      <th>user_id</th>\n",
       "      <th>cohort_id</th>\n",
       "      <th>id</th>\n",
       "      <th>program_id</th>\n",
       "    </tr>\n",
       "  </thead>\n",
       "  <tbody>\n",
       "    <tr>\n",
       "      <th>count</th>\n",
       "      <td>900223.000000</td>\n",
       "      <td>847330.000000</td>\n",
       "      <td>73739.000000</td>\n",
       "      <td>73739.000000</td>\n",
       "    </tr>\n",
       "    <tr>\n",
       "      <th>mean</th>\n",
       "      <td>458.825707</td>\n",
       "      <td>48.501049</td>\n",
       "      <td>30.566213</td>\n",
       "      <td>1.561670</td>\n",
       "    </tr>\n",
       "    <tr>\n",
       "      <th>std</th>\n",
       "      <td>249.296767</td>\n",
       "      <td>32.795482</td>\n",
       "      <td>35.540653</td>\n",
       "      <td>0.659918</td>\n",
       "    </tr>\n",
       "    <tr>\n",
       "      <th>min</th>\n",
       "      <td>1.000000</td>\n",
       "      <td>1.000000</td>\n",
       "      <td>1.000000</td>\n",
       "      <td>1.000000</td>\n",
       "    </tr>\n",
       "    <tr>\n",
       "      <th>25%</th>\n",
       "      <td>269.000000</td>\n",
       "      <td>28.000000</td>\n",
       "      <td>11.000000</td>\n",
       "      <td>1.000000</td>\n",
       "    </tr>\n",
       "    <tr>\n",
       "      <th>50%</th>\n",
       "      <td>475.000000</td>\n",
       "      <td>33.000000</td>\n",
       "      <td>12.000000</td>\n",
       "      <td>1.000000</td>\n",
       "    </tr>\n",
       "    <tr>\n",
       "      <th>75%</th>\n",
       "      <td>660.000000</td>\n",
       "      <td>57.000000</td>\n",
       "      <td>53.000000</td>\n",
       "      <td>2.000000</td>\n",
       "    </tr>\n",
       "    <tr>\n",
       "      <th>max</th>\n",
       "      <td>981.000000</td>\n",
       "      <td>139.000000</td>\n",
       "      <td>139.000000</td>\n",
       "      <td>4.000000</td>\n",
       "    </tr>\n",
       "  </tbody>\n",
       "</table>\n",
       "</div>"
      ],
      "text/plain": [
       "             user_id      cohort_id            id    program_id\n",
       "count  900223.000000  847330.000000  73739.000000  73739.000000\n",
       "mean      458.825707      48.501049     30.566213      1.561670\n",
       "std       249.296767      32.795482     35.540653      0.659918\n",
       "min         1.000000       1.000000      1.000000      1.000000\n",
       "25%       269.000000      28.000000     11.000000      1.000000\n",
       "50%       475.000000      33.000000     12.000000      1.000000\n",
       "75%       660.000000      57.000000     53.000000      2.000000\n",
       "max       981.000000     139.000000    139.000000      4.000000"
      ]
     },
     "execution_count": 16,
     "metadata": {},
     "output_type": "execute_result"
    }
   ],
   "source": [
    "df.describe()"
   ]
  },
  {
   "cell_type": "code",
   "execution_count": 17,
   "id": "cd717dfb-788f-4a93-b100-8508aeb1c808",
   "metadata": {},
   "outputs": [
    {
     "name": "stdout",
     "output_type": "stream",
     "text": [
      "<class 'pandas.core.frame.DataFrame'>\n",
      "RangeIndex: 900223 entries, 0 to 900222\n",
      "Data columns (total 15 columns):\n",
      " #   Column      Non-Null Count   Dtype  \n",
      "---  ------      --------------   -----  \n",
      " 0   date        900223 non-null  object \n",
      " 1   time        900223 non-null  object \n",
      " 2   path        900222 non-null  object \n",
      " 3   user_id     900223 non-null  int64  \n",
      " 4   cohort_id   847330 non-null  float64\n",
      " 5   ip          900223 non-null  object \n",
      " 6   id          73739 non-null   float64\n",
      " 7   name        73739 non-null   object \n",
      " 8   slack       73739 non-null   object \n",
      " 9   start_date  73739 non-null   object \n",
      " 10  end_date    73739 non-null   object \n",
      " 11  created_at  73739 non-null   object \n",
      " 12  updated_at  73739 non-null   object \n",
      " 13  deleted_at  0 non-null       object \n",
      " 14  program_id  73739 non-null   float64\n",
      "dtypes: float64(3), int64(1), object(11)\n",
      "memory usage: 103.0+ MB\n"
     ]
    }
   ],
   "source": [
    "df.info()"
   ]
  },
  {
   "cell_type": "code",
   "execution_count": 15,
   "id": "42896bdc-cff4-4f6c-bc61-6c91ebc46d21",
   "metadata": {},
   "outputs": [
    {
     "data": {
      "text/plain": [
       "date               0\n",
       "time               0\n",
       "path               1\n",
       "user_id            0\n",
       "cohort_id      52893\n",
       "ip                 0\n",
       "id            826484\n",
       "name          826484\n",
       "slack         826484\n",
       "start_date    826484\n",
       "end_date      826484\n",
       "created_at    826484\n",
       "updated_at    826484\n",
       "deleted_at    900223\n",
       "program_id    826484\n",
       "dtype: int64"
      ]
     },
     "execution_count": 15,
     "metadata": {},
     "output_type": "execute_result"
    }
   ],
   "source": [
    "df.isna().sum()"
   ]
  },
  {
   "cell_type": "code",
   "execution_count": null,
   "id": "9a9e13e7-7d1a-49ae-a935-f3a54d223103",
   "metadata": {},
   "outputs": [],
   "source": []
  }
 ],
 "metadata": {
  "kernelspec": {
   "display_name": "Python 3 (ipykernel)",
   "language": "python",
   "name": "python3"
  },
  "language_info": {
   "codemirror_mode": {
    "name": "ipython",
    "version": 3
   },
   "file_extension": ".py",
   "mimetype": "text/x-python",
   "name": "python",
   "nbconvert_exporter": "python",
   "pygments_lexer": "ipython3",
   "version": "3.9.7"
  }
 },
 "nbformat": 4,
 "nbformat_minor": 5
}
