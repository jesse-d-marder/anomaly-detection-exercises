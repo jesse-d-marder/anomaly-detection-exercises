{
 "cells": [
  {
   "cell_type": "code",
   "execution_count": 1,
   "id": "3a3c8754-b70c-463d-acc5-7e518004e3db",
   "metadata": {},
   "outputs": [],
   "source": [
    "import pandas as pd\n",
    "import numpy as np\n",
    "import matplotlib.pyplot as plt\n",
    "import seaborn as sns"
   ]
  },
  {
   "cell_type": "code",
   "execution_count": 2,
   "id": "049c676f-527c-4a1b-89c4-0ec7af99f245",
   "metadata": {},
   "outputs": [],
   "source": [
    "df = pd.read_csv('lemonade.csv')"
   ]
  },
  {
   "cell_type": "code",
   "execution_count": 3,
   "id": "7a079f8d-29f9-4ec7-b596-39ed3207c4ff",
   "metadata": {},
   "outputs": [],
   "source": [
    "df.columns = [col.lower() for col in df.columns]"
   ]
  },
  {
   "cell_type": "code",
   "execution_count": 4,
   "id": "f2cac623-b882-4592-8147-eeb756030306",
   "metadata": {},
   "outputs": [],
   "source": [
    "def get_lower_and_upper_bounds(x, k = 1.5):\n",
    "    \"\"\"Returns lower and upper bounds of series x using IQR range rule with multiplier k\"\"\"\n",
    "    q1 = x.quantile(0.25)\n",
    "    q3 = x.quantile(0.75)\n",
    "    iqr = q3-q1\n",
    "    upper = q3 + k * iqr\n",
    "    lower = q1 - k * iqr\n",
    "    \n",
    "    return lower, upper"
   ]
  },
  {
   "cell_type": "code",
   "execution_count": 5,
   "id": "4b4b0ff1-5f78-479e-ab8e-17a53a1f1679",
   "metadata": {},
   "outputs": [
    {
     "data": {
      "text/plain": [
       "date           365\n",
       "day              7\n",
       "temperature    176\n",
       "rainfall        35\n",
       "flyers          63\n",
       "price            1\n",
       "sales           39\n",
       "dtype: int64"
      ]
     },
     "execution_count": 5,
     "metadata": {},
     "output_type": "execute_result"
    }
   ],
   "source": [
    "df.nunique()"
   ]
  },
  {
   "cell_type": "code",
   "execution_count": 6,
   "id": "dd29dd16-06e7-4a47-911e-aa16fd3f2c53",
   "metadata": {},
   "outputs": [
    {
     "name": "stdout",
     "output_type": "stream",
     "text": [
      "Lower outliers for  temperature :\n",
      "         date     day  temperature  rainfall  flyers  price  sales\n",
      "364  12/31/17  Sunday         15.1       2.5       9    0.5      7\n",
      "-------\n",
      "Lower outliers for  rainfall :\n",
      "None\n",
      "-------\n",
      "Lower outliers for  flyers :\n",
      "         date      day  temperature  rainfall  flyers  price  sales\n",
      "324  11/21/17  Tuesday         47.0      0.95     -38    0.5     20\n",
      "-------\n",
      "Lower outliers for  sales :\n",
      "None\n",
      "-------\n"
     ]
    }
   ],
   "source": [
    "for col in df[['temperature','rainfall','flyers','sales']]:\n",
    "    print(\"Lower outliers for \",col,\":\")\n",
    "    if len(df[df[col]<get_lower_and_upper_bounds(df[col])[0]])>0:\n",
    "        print(df[df[col]<get_lower_and_upper_bounds(df[col])[0]])\n",
    "    else:\n",
    "        print(\"None\")\n",
    "    print(\"-------\")"
   ]
  },
  {
   "cell_type": "markdown",
   "id": "8158f9a6-70fb-46d7-8da8-90258645f02b",
   "metadata": {},
   "source": [
    "##### Lower outlier for temperature makes sense, 15.1 deg is a reasonable temperature. Would need larger multiple to account for this potentially.\n",
    "##### Lower outlier for flyers -38 does not make sense and can be dropped"
   ]
  },
  {
   "cell_type": "code",
   "execution_count": 7,
   "id": "2b350f9b-ac6f-488c-a341-cb1830ba9b3b",
   "metadata": {},
   "outputs": [
    {
     "name": "stdout",
     "output_type": "stream",
     "text": [
      "Upper outliers for  temperature :\n",
      "       date       day  temperature  rainfall  flyers  price  sales\n",
      "41  2/11/17  Saturday        212.0      0.91      35    0.5     21\n",
      "-------\n",
      "Upper outliers for  rainfall :\n",
      "         date        day  temperature  rainfall  flyers  price  sales\n",
      "0      1/1/17     Sunday         27.0      2.00      15    0.5     10\n",
      "1      1/2/17     Monday         28.9      1.33      15    0.5     13\n",
      "2      1/3/17    Tuesday         34.5      1.33      27    0.5     15\n",
      "5      1/6/17     Friday         25.3      1.54      23    0.5     11\n",
      "6      1/7/17   Saturday         32.9      1.54      19    0.5     13\n",
      "10    1/11/17  Wednesday         32.6      1.54      23    0.5     12\n",
      "11    1/12/17   Thursday         38.2      1.33      16    0.5     14\n",
      "12    1/13/17     Friday         37.5      1.33      19    0.5     15\n",
      "15    1/16/17     Monday         30.6      1.67      24    0.5     12\n",
      "16    1/17/17    Tuesday         32.2      1.43      26    0.5     14\n",
      "19    1/20/17     Friday         31.6      1.43      20    0.5     12\n",
      "23    1/24/17    Tuesday         28.6      1.54      20    0.5     12\n",
      "27    1/28/17   Saturday         34.9      1.33      15    0.5     13\n",
      "28    1/29/17     Sunday         35.2      1.33      27    0.5     14\n",
      "337   12/4/17     Monday         34.9      1.54      16    0.5     13\n",
      "338   12/5/17    Tuesday         22.0      1.82      11    0.5     10\n",
      "342   12/9/17   Saturday         31.2      1.43      19    0.5     14\n",
      "343  12/10/17     Sunday         31.3      1.82      15    0.5     11\n",
      "345  12/12/17    Tuesday         33.5      1.33      22    0.5     15\n",
      "346  12/13/17  Wednesday         32.2      1.43      26    0.5     14\n",
      "347  12/14/17   Thursday         31.9      1.54      24    0.5     13\n",
      "350  12/17/17     Sunday         32.2      1.33      16    0.5     14\n",
      "351  12/18/17     Monday         30.9      1.43      27    0.5     13\n",
      "354  12/21/17   Thursday         40.5      1.33      23    0.5     15\n",
      "355  12/22/17     Friday         30.9      1.54      17    0.5     13\n",
      "359  12/26/17    Tuesday         28.9      1.43      23    0.5     13\n",
      "363  12/30/17   Saturday         30.9      1.43      22    0.5     13\n",
      "364  12/31/17     Sunday         15.1      2.50       9    0.5      7\n",
      "-------\n",
      "Upper outliers for  flyers :\n",
      "        date     day  temperature  rainfall  flyers  price  sales\n",
      "166  6/16/17  Friday         99.3      0.47      77    0.5     41\n",
      "194  7/14/17  Friday         92.0      0.50      80    0.5     40\n",
      "-------\n",
      "Upper outliers for  sales :\n",
      "       date       day  temperature  rainfall  flyers  price  sales\n",
      "181  7/1/17  Saturday        102.9      0.47      59    0.5    143\n",
      "182  7/2/17    Sunday         93.4      0.51      68    0.5    158\n",
      "183  7/3/17    Monday         81.5      0.54      68    0.5    235\n",
      "184  7/4/17   Tuesday         84.2      0.59      49    0.5    534\n",
      "-------\n"
     ]
    }
   ],
   "source": [
    "for col in df[['temperature','rainfall','flyers','sales']]:\n",
    "    print(\"Upper outliers for \",col,\":\")\n",
    "    if len(df[df[col]>get_lower_and_upper_bounds(df[col])[1]])>0:\n",
    "        print(df[df[col]>get_lower_and_upper_bounds(df[col])[1]])\n",
    "    else:\n",
    "        print(\"None\")\n",
    "    print(\"-------\")"
   ]
  },
  {
   "cell_type": "markdown",
   "id": "95aedd06-87c5-42e6-b545-8f9aaee1a8da",
   "metadata": {},
   "source": [
    "#### Upper outlier for temperature does not make sense - sensor error?\n",
    "#### Upper outliers for rainfall make sense but based on the large number of them potentially should increase threshold\n",
    "#### Upper outliers for flyers and sales make sense"
   ]
  },
  {
   "cell_type": "markdown",
   "id": "c13fe1c2-603b-452c-89a5-88bc1a916a4f",
   "metadata": {},
   "source": [
    "### Multiplier of 3"
   ]
  },
  {
   "cell_type": "code",
   "execution_count": 8,
   "id": "399530ef-0ea5-436b-8a73-f5fe2059641a",
   "metadata": {},
   "outputs": [
    {
     "name": "stdout",
     "output_type": "stream",
     "text": [
      "Lower outliers for  temperature :\n",
      "None\n",
      "-------\n",
      "Lower outliers for  rainfall :\n",
      "None\n",
      "-------\n",
      "Lower outliers for  flyers :\n",
      "         date      day  temperature  rainfall  flyers  price  sales\n",
      "324  11/21/17  Tuesday         47.0      0.95     -38    0.5     20\n",
      "-------\n",
      "Lower outliers for  sales :\n",
      "None\n",
      "-------\n"
     ]
    }
   ],
   "source": [
    "for col in df[['temperature','rainfall','flyers','sales']]:\n",
    "    print(\"Lower outliers for \",col,\":\")\n",
    "    if len(df[df[col]<get_lower_and_upper_bounds(df[col],3)[0]])>0:\n",
    "        print(df[df[col]<get_lower_and_upper_bounds(df[col],3)[0]])\n",
    "    else:\n",
    "        print(\"None\")\n",
    "    print(\"-------\")"
   ]
  },
  {
   "cell_type": "markdown",
   "id": "692c3691-455a-411c-a6ae-1073917b8721",
   "metadata": {},
   "source": [
    "#### That flyers outlier needs to be removed"
   ]
  },
  {
   "cell_type": "code",
   "execution_count": 9,
   "id": "cdf27bb2-34c2-4a5d-bed1-13c7e6eb88a9",
   "metadata": {},
   "outputs": [
    {
     "name": "stdout",
     "output_type": "stream",
     "text": [
      "Upper outliers for  temperature :\n",
      "       date       day  temperature  rainfall  flyers  price  sales\n",
      "41  2/11/17  Saturday        212.0      0.91      35    0.5     21\n",
      "-------\n",
      "Upper outliers for  rainfall :\n",
      "         date      day  temperature  rainfall  flyers  price  sales\n",
      "0      1/1/17   Sunday         27.0      2.00      15    0.5     10\n",
      "338   12/5/17  Tuesday         22.0      1.82      11    0.5     10\n",
      "343  12/10/17   Sunday         31.3      1.82      15    0.5     11\n",
      "364  12/31/17   Sunday         15.1      2.50       9    0.5      7\n",
      "-------\n",
      "Upper outliers for  flyers :\n",
      "None\n",
      "-------\n",
      "Upper outliers for  sales :\n",
      "       date       day  temperature  rainfall  flyers  price  sales\n",
      "181  7/1/17  Saturday        102.9      0.47      59    0.5    143\n",
      "182  7/2/17    Sunday         93.4      0.51      68    0.5    158\n",
      "183  7/3/17    Monday         81.5      0.54      68    0.5    235\n",
      "184  7/4/17   Tuesday         84.2      0.59      49    0.5    534\n",
      "-------\n"
     ]
    }
   ],
   "source": [
    "for col in df[['temperature','rainfall','flyers','sales']]:\n",
    "    print(\"Upper outliers for \",col,\":\")\n",
    "    if len(df[df[col]>get_lower_and_upper_bounds(df[col],3)[1]])>0:\n",
    "        print(df[df[col]>get_lower_and_upper_bounds(df[col],3)[1]])\n",
    "    else:\n",
    "        print(\"None\")\n",
    "    print(\"-------\")"
   ]
  },
  {
   "cell_type": "markdown",
   "id": "55bca2af-3ffb-49ec-980b-c699e715acb8",
   "metadata": {},
   "source": [
    "#### This looks like a better threshold for rainfall. "
   ]
  },
  {
   "cell_type": "code",
   "execution_count": 10,
   "id": "b65d9c2e-8862-4b4e-809f-d06909777a10",
   "metadata": {},
   "outputs": [
    {
     "data": {
      "image/png": "[encoded data removed]",
      "text/plain": [
       "<Figure size 432x288 with 1 Axes>"
      ]
     },
     "metadata": {
      "needs_background": "light"
     },
     "output_type": "display_data"
    },
    {
     "data": {
      "image/png": "[encoded data removed]",
      "text/plain": [
       "<Figure size 432x288 with 1 Axes>"
      ]
     },
     "metadata": {
      "needs_background": "light"
     },
     "output_type": "display_data"
    },
    {
     "data": {
      "image/png": "[encoded data removed]",
      "text/plain": [
       "<Figure size 432x288 with 1 Axes>"
      ]
     },
     "metadata": {
      "needs_background": "light"
     },
     "output_type": "display_data"
    },
    {
     "data": {
      "image/png": "[encoded data removed]",
      "text/plain": [
       "<Figure size 432x288 with 1 Axes>"
      ]
     },
     "metadata": {
      "needs_background": "light"
     },
     "output_type": "display_data"
    }
   ],
   "source": [
    "for col in df[['temperature','rainfall','flyers','sales']]:\n",
    "    df[col].hist()\n",
    "    plt.title(col)\n",
    "    plt.show()"
   ]
  },
  {
   "cell_type": "markdown",
   "id": "09452576-716b-4174-9176-321b5b93e3ed",
   "metadata": {},
   "source": [
    "Temperature, rainfall, and flyers may be normally distributed. Will see what removing outliers does for all"
   ]
  },
  {
   "cell_type": "code",
   "execution_count": 11,
   "id": "75b4b602-98d9-48f6-a2ab-eaf87b243176",
   "metadata": {},
   "outputs": [
    {
     "name": "stdout",
     "output_type": "stream",
     "text": [
      "41     212.0\n",
      "166     99.3\n",
      "176    102.6\n",
      "181    102.9\n",
      "190     98.0\n",
      "198     99.3\n",
      "202     99.6\n",
      "207     97.9\n",
      "338     22.0\n",
      "364     15.1\n",
      "Name: temperature, dtype: float64\n"
     ]
    },
    {
     "data": {
      "image/png": "[encoded data removed]",
      "text/plain": [
       "<Figure size 432x288 with 1 Axes>"
      ]
     },
     "metadata": {
      "needs_background": "light"
     },
     "output_type": "display_data"
    },
    {
     "name": "stdout",
     "output_type": "stream",
     "text": [
      "0      2.00\n",
      "5      1.54\n",
      "6      1.54\n",
      "10     1.54\n",
      "15     1.67\n",
      "16     1.43\n",
      "19     1.43\n",
      "23     1.54\n",
      "337    1.54\n",
      "338    1.82\n",
      "342    1.43\n",
      "343    1.82\n",
      "346    1.43\n",
      "347    1.54\n",
      "351    1.43\n",
      "355    1.54\n",
      "359    1.43\n",
      "363    1.43\n",
      "364    2.50\n",
      "Name: rainfall, dtype: float64\n"
     ]
    },
    {
     "data": {
      "image/png": "[encoded data removed]",
      "text/plain": [
       "<Figure size 432x288 with 1 Axes>"
      ]
     },
     "metadata": {
      "needs_background": "light"
     },
     "output_type": "display_data"
    },
    {
     "name": "stdout",
     "output_type": "stream",
     "text": [
      "166    77\n",
      "170    70\n",
      "171    76\n",
      "182    68\n",
      "183    68\n",
      "194    80\n",
      "198    76\n",
      "203    72\n",
      "204    69\n",
      "207    74\n",
      "324   -38\n",
      "338    11\n",
      "364     9\n",
      "Name: flyers, dtype: int64\n"
     ]
    },
    {
     "data": {
      "image/png": "[encoded data removed]",
      "text/plain": [
       "<Figure size 432x288 with 1 Axes>"
      ]
     },
     "metadata": {
      "needs_background": "light"
     },
     "output_type": "display_data"
    },
    {
     "name": "stdout",
     "output_type": "stream",
     "text": [
      "181    143\n",
      "182    158\n",
      "183    235\n",
      "184    534\n",
      "Name: sales, dtype: int64\n"
     ]
    },
    {
     "data": {
      "image/png": "[encoded data removed]",
      "text/plain": [
       "<Figure size 432x288 with 1 Axes>"
      ]
     },
     "metadata": {
      "needs_background": "light"
     },
     "output_type": "display_data"
    }
   ],
   "source": [
    "for col in df[['temperature','rainfall','flyers','sales']]:\n",
    "    x = df[col]\n",
    "    # Calculate the z-score \n",
    "    zscores = pd.Series((x - x.mean()) / x.std())\n",
    "\n",
    "    # Finds all of the observations two standard deviations or more.\n",
    "    print(x[zscores.abs() >= 2])\n",
    "    \n",
    "    # Plot histogram without the outliers 2 std or more\n",
    "    df[col][~df[col].isin(x[zscores.abs() >= 2])].hist()\n",
    "    plt.title(col+\" with outliers >2 std removed\")\n",
    "    plt.show()\n",
    "    "
   ]
  },
  {
   "cell_type": "markdown",
   "id": "aeea4665-68cc-437d-8074-4662caef7d6b",
   "metadata": {},
   "source": [
    "#### Every feature became more normally distributed! Depending on what we are trying to do with the data should decide which outliers to keep or remove. Definitely remove negative flyer and temperature 212 data points as these don't make any sense."
   ]
  },
  {
   "cell_type": "code",
   "execution_count": 12,
   "id": "5647eb1c-cbde-4ead-85d5-26efab310f03",
   "metadata": {},
   "outputs": [
    {
     "name": "stdout",
     "output_type": "stream",
     "text": [
      "41     212.0\n",
      "166     99.3\n",
      "176    102.6\n",
      "181    102.9\n",
      "190     98.0\n",
      "198     99.3\n",
      "202     99.6\n",
      "207     97.9\n",
      "338     22.0\n",
      "364     15.1\n",
      "Name: temperature, dtype: float64\n"
     ]
    },
    {
     "data": {
      "image/png": "[encoded data removed]",
      "text/plain": [
       "<Figure size 432x288 with 1 Axes>"
      ]
     },
     "metadata": {
      "needs_background": "light"
     },
     "output_type": "display_data"
    },
    {
     "name": "stdout",
     "output_type": "stream",
     "text": [
      "0      2.00\n",
      "5      1.54\n",
      "6      1.54\n",
      "10     1.54\n",
      "15     1.67\n",
      "16     1.43\n",
      "19     1.43\n",
      "23     1.54\n",
      "337    1.54\n",
      "338    1.82\n",
      "342    1.43\n",
      "343    1.82\n",
      "346    1.43\n",
      "347    1.54\n",
      "351    1.43\n",
      "355    1.54\n",
      "359    1.43\n",
      "363    1.43\n",
      "364    2.50\n",
      "Name: rainfall, dtype: float64\n"
     ]
    },
    {
     "data": {
      "image/png": "[encoded data removed]",
      "text/plain": [
       "<Figure size 432x288 with 1 Axes>"
      ]
     },
     "metadata": {
      "needs_background": "light"
     },
     "output_type": "display_data"
    },
    {
     "name": "stdout",
     "output_type": "stream",
     "text": [
      "166    77\n",
      "170    70\n",
      "171    76\n",
      "182    68\n",
      "183    68\n",
      "194    80\n",
      "198    76\n",
      "203    72\n",
      "204    69\n",
      "207    74\n",
      "324   -38\n",
      "338    11\n",
      "364     9\n",
      "Name: flyers, dtype: int64\n"
     ]
    },
    {
     "data": {
      "image/png": "[encoded data removed]",
      "text/plain": [
       "<Figure size 432x288 with 1 Axes>"
      ]
     },
     "metadata": {
      "needs_background": "light"
     },
     "output_type": "display_data"
    },
    {
     "name": "stdout",
     "output_type": "stream",
     "text": [
      "181    143\n",
      "182    158\n",
      "183    235\n",
      "184    534\n",
      "Name: sales, dtype: int64\n"
     ]
    },
    {
     "data": {
      "image/png": "[encoded data removed]",
      "text/plain": [
       "<Figure size 432x288 with 1 Axes>"
      ]
     },
     "metadata": {
      "needs_background": "light"
     },
     "output_type": "display_data"
    }
   ],
   "source": [
    "for col in df[['temperature','rainfall','flyers','sales']]:\n",
    "    x = df[col]\n",
    "    # Calculate the z-score \n",
    "    zscores = pd.Series((x - x.mean()) / x.std())\n",
    "\n",
    "    # Finds all of the observations two standard deviations or more.\n",
    "    print(x[zscores.abs() >= 2])\n",
    "    \n",
    "    # Plot histogram without the outliers 2 std or more\n",
    "    df[col][~df[col].isin(x[zscores.abs() >= 3])].hist()\n",
    "    plt.title(col+\" with outliers >3 std removed\")\n",
    "    plt.show()\n",
    "    "
   ]
  },
  {
   "cell_type": "markdown",
   "id": "987ada6e-fdf7-47b4-a46f-9cbece0b99b1",
   "metadata": {},
   "source": [
    "### 3 std is probably good if we want to keep more data points. Really just need to get rid of very high temperature value (212) and negative flyer value (non sensical)"
   ]
  },
  {
   "cell_type": "code",
   "execution_count": null,
   "id": "f9f32d91-4b6a-414f-b87f-fcd63f0fef1a",
   "metadata": {},
   "outputs": [],
   "source": []
  }
 ],
 "metadata": {
  "kernelspec": {
   "display_name": "Python 3 (ipykernel)",
   "language": "python",
   "name": "python3"
  },
  "language_info": {
   "codemirror_mode": {
    "name": "ipython",
    "version": 3
   },
   "file_extension": ".py",
   "mimetype": "text/x-python",
   "name": "python",
   "nbconvert_exporter": "python",
   "pygments_lexer": "ipython3",
   "version": "3.9.7"
  }
 },
 "nbformat": 4,
 "nbformat_minor": 5
}
