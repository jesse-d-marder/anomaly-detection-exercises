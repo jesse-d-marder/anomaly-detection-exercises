{
 "cells": [
  {
   "cell_type": "code",
   "execution_count": 2,
   "id": "310a9ec8-6500-4b8c-89ff-ea01bd3e5ca3",
   "metadata": {},
   "outputs": [],
   "source": [
    "import matplotlib.pyplot as plt\n",
    "import numpy as np\n",
    "import pandas as pd\n",
    "import seaborn as sns\n",
    "from sklearn import metrics\n",
    "from env import get_db_url"
   ]
  },
  {
   "cell_type": "code",
   "execution_count": 3,
   "id": "cc07699a-fef9-493c-a20e-b149448025bb",
   "metadata": {},
   "outputs": [
    {
     "data": {
      "text/html": [
       "<div>\n",
       "<style scoped>\n",
       "    .dataframe tbody tr th:only-of-type {\n",
       "        vertical-align: middle;\n",
       "    }\n",
       "\n",
       "    .dataframe tbody tr th {\n",
       "        vertical-align: top;\n",
       "    }\n",
       "\n",
       "    .dataframe thead th {\n",
       "        text-align: right;\n",
       "    }\n",
       "</style>\n",
       "<table border=\"1\" class=\"dataframe\">\n",
       "  <thead>\n",
       "    <tr style=\"text-align: right;\">\n",
       "      <th></th>\n",
       "      <th>ip</th>\n",
       "      <th>timestamp</th>\n",
       "      <th>request_method</th>\n",
       "      <th>request_path</th>\n",
       "      <th>http_version</th>\n",
       "      <th>status_code</th>\n",
       "      <th>size</th>\n",
       "      <th>user_agent</th>\n",
       "    </tr>\n",
       "  </thead>\n",
       "  <tbody>\n",
       "    <tr>\n",
       "      <th>0</th>\n",
       "      <td>97.105.19.58</td>\n",
       "      <td>16/Apr/2019 19:34:42</td>\n",
       "      <td>GET</td>\n",
       "      <td>/api/v1/sales?page=81</td>\n",
       "      <td>HTTP/1.1</td>\n",
       "      <td>200</td>\n",
       "      <td>512495</td>\n",
       "      <td>python-requests/2.21.0</td>\n",
       "    </tr>\n",
       "    <tr>\n",
       "      <th>1</th>\n",
       "      <td>97.105.19.58</td>\n",
       "      <td>16/Apr/2019 19:34:42</td>\n",
       "      <td>GET</td>\n",
       "      <td>/api/v1/items</td>\n",
       "      <td>HTTP/1.1</td>\n",
       "      <td>200</td>\n",
       "      <td>3561</td>\n",
       "      <td>python-requests/2.21.0</td>\n",
       "    </tr>\n",
       "    <tr>\n",
       "      <th>2</th>\n",
       "      <td>97.105.19.58</td>\n",
       "      <td>16/Apr/2019 19:34:44</td>\n",
       "      <td>GET</td>\n",
       "      <td>/api/v1/sales?page=82</td>\n",
       "      <td>HTTP/1.1</td>\n",
       "      <td>200</td>\n",
       "      <td>510103</td>\n",
       "      <td>python-requests/2.21.0</td>\n",
       "    </tr>\n",
       "    <tr>\n",
       "      <th>3</th>\n",
       "      <td>97.105.19.58</td>\n",
       "      <td>16/Apr/2019 19:34:46</td>\n",
       "      <td>GET</td>\n",
       "      <td>/api/v1/sales?page=83</td>\n",
       "      <td>HTTP/1.1</td>\n",
       "      <td>200</td>\n",
       "      <td>510003</td>\n",
       "      <td>python-requests/2.21.0</td>\n",
       "    </tr>\n",
       "    <tr>\n",
       "      <th>4</th>\n",
       "      <td>97.105.19.58</td>\n",
       "      <td>16/Apr/2019 19:34:48</td>\n",
       "      <td>GET</td>\n",
       "      <td>/api/v1/sales?page=84</td>\n",
       "      <td>HTTP/1.1</td>\n",
       "      <td>200</td>\n",
       "      <td>511963</td>\n",
       "      <td>python-requests/2.21.0</td>\n",
       "    </tr>\n",
       "  </tbody>\n",
       "</table>\n",
       "</div>"
      ],
      "text/plain": [
       "             ip             timestamp request_method           request_path  \\\n",
       "0  97.105.19.58  16/Apr/2019 19:34:42            GET  /api/v1/sales?page=81   \n",
       "1  97.105.19.58  16/Apr/2019 19:34:42            GET          /api/v1/items   \n",
       "2  97.105.19.58  16/Apr/2019 19:34:44            GET  /api/v1/sales?page=82   \n",
       "3  97.105.19.58  16/Apr/2019 19:34:46            GET  /api/v1/sales?page=83   \n",
       "4  97.105.19.58  16/Apr/2019 19:34:48            GET  /api/v1/sales?page=84   \n",
       "\n",
       "  http_version status_code    size              user_agent  \n",
       "0     HTTP/1.1         200  512495  python-requests/2.21.0  \n",
       "1     HTTP/1.1         200    3561  python-requests/2.21.0  \n",
       "2     HTTP/1.1         200  510103  python-requests/2.21.0  \n",
       "3     HTTP/1.1         200  510003  python-requests/2.21.0  \n",
       "4     HTTP/1.1         200  511963  python-requests/2.21.0  "
      ]
     },
     "execution_count": 3,
     "metadata": {},
     "output_type": "execute_result"
    }
   ],
   "source": [
    "# function to deal with parsing one entry in our log data\n",
    "def parse_log_entry(entry):\n",
    "    parts = entry.split()\n",
    "    output = {}\n",
    "    output['ip'] = parts[0]\n",
    "    output['timestamp'] = parts[3][1:].replace(':', ' ', 1)\n",
    "    output['request_method'] = parts[5][1:]\n",
    "    output['request_path'] = parts[6]\n",
    "    output['http_version'] = parts[7][:-1]\n",
    "    output['status_code'] = parts[8]\n",
    "    output['size'] = int(parts[9])\n",
    "    output['user_agent'] = ' '.join(parts[11:]).replace('\"', '')\n",
    "    return pd.Series(output)\n",
    "\n",
    "df = pd.read_sql('SELECT * FROM api_access', get_db_url('logs'))\n",
    "# df = pd.concat([df.entry, df.entry.apply(parse_log_entry)], axis=1)\n",
    "df = df.entry.apply(parse_log_entry)\n",
    "df.head()\n"
   ]
  },
  {
   "cell_type": "markdown",
   "id": "3c2b21bb-78fa-4ac4-85b9-39afdc83f964",
   "metadata": {},
   "source": [
    "Use basic probability to identify anomalous requests. Using the methods covered in this lesson, examine the rest of the features in the api access logs data set."
   ]
  },
  {
   "cell_type": "code",
   "execution_count": 8,
   "id": "4da63781-ca68-4e06-bd49-bde7be8e452e",
   "metadata": {},
   "outputs": [],
   "source": [
    "def value_counts_and_frequencies(s: pd.Series, dropna=True) -> pd.DataFrame:\n",
    "    return pd.merge(\n",
    "        s.value_counts(dropna=False).rename('count'),\n",
    "        s.value_counts(dropna=False, normalize=True).rename('proba'),\n",
    "        left_index=True,\n",
    "        right_index=True,\n",
    "    )"
   ]
  },
  {
   "cell_type": "markdown",
   "id": "af1b8d56-52c3-4ba4-aa5d-b6db0f6eb4f8",
   "metadata": {
    "tags": []
   },
   "source": [
    "#### IP Address"
   ]
  },
  {
   "cell_type": "code",
   "execution_count": 11,
   "id": "813d4c32-8006-4e93-b4d3-51cafa6a3da1",
   "metadata": {},
   "outputs": [],
   "source": [
    "ip_df = value_counts_and_frequencies(df.ip)"
   ]
  },
  {
   "cell_type": "code",
   "execution_count": 12,
   "id": "15dd0bde-8be7-414b-a27b-7bd97b6229e6",
   "metadata": {},
   "outputs": [
    {
     "data": {
      "text/plain": [
       "<AxesSubplot:>"
      ]
     },
     "execution_count": 12,
     "metadata": {},
     "output_type": "execute_result"
    },
    {
     "data": {
      "image/png": "[encoded data removed]",
      "text/plain": [
       "<Figure size 360x648 with 1 Axes>"
      ]
     },
     "metadata": {
      "needs_background": "light"
     },
     "output_type": "display_data"
    }
   ],
   "source": [
    "ip_df['count'].sort_values().tail(5).plot.barh(figsize=(5, 9))\n"
   ]
  },
  {
   "cell_type": "markdown",
   "id": "d0544030-2021-4666-8846-d0753d4a2900",
   "metadata": {},
   "source": [
    "#### Status by IP Address"
   ]
  },
  {
   "cell_type": "code",
   "execution_count": 13,
   "id": "bfb433a4-89aa-4b1f-b388-2e9414162205",
   "metadata": {},
   "outputs": [
    {
     "data": {
      "text/html": [
       "<div>\n",
       "<style scoped>\n",
       "    .dataframe tbody tr th:only-of-type {\n",
       "        vertical-align: middle;\n",
       "    }\n",
       "\n",
       "    .dataframe tbody tr th {\n",
       "        vertical-align: top;\n",
       "    }\n",
       "\n",
       "    .dataframe thead th {\n",
       "        text-align: right;\n",
       "    }\n",
       "</style>\n",
       "<table border=\"1\" class=\"dataframe\">\n",
       "  <thead>\n",
       "    <tr style=\"text-align: right;\">\n",
       "      <th></th>\n",
       "      <th>ip</th>\n",
       "      <th>status_code</th>\n",
       "      <th>proba_status_given_ip</th>\n",
       "    </tr>\n",
       "  </thead>\n",
       "  <tbody>\n",
       "    <tr>\n",
       "      <th>0</th>\n",
       "      <td>173.173.113.51</td>\n",
       "      <td>200</td>\n",
       "      <td>1.0</td>\n",
       "    </tr>\n",
       "    <tr>\n",
       "      <th>1</th>\n",
       "      <td>24.26.242.9</td>\n",
       "      <td>200</td>\n",
       "      <td>1.0</td>\n",
       "    </tr>\n",
       "    <tr>\n",
       "      <th>2</th>\n",
       "      <td>3.88.129.158</td>\n",
       "      <td>200</td>\n",
       "      <td>1.0</td>\n",
       "    </tr>\n",
       "    <tr>\n",
       "      <th>3</th>\n",
       "      <td>3.92.201.136</td>\n",
       "      <td>200</td>\n",
       "      <td>1.0</td>\n",
       "    </tr>\n",
       "    <tr>\n",
       "      <th>4</th>\n",
       "      <td>34.207.64.242</td>\n",
       "      <td>200</td>\n",
       "      <td>1.0</td>\n",
       "    </tr>\n",
       "  </tbody>\n",
       "</table>\n",
       "</div>"
      ],
      "text/plain": [
       "               ip status_code  proba_status_given_ip\n",
       "0  173.173.113.51         200                    1.0\n",
       "1     24.26.242.9         200                    1.0\n",
       "2    3.88.129.158         200                    1.0\n",
       "3    3.92.201.136         200                    1.0\n",
       "4   34.207.64.242         200                    1.0"
      ]
     },
     "execution_count": 13,
     "metadata": {},
     "output_type": "execute_result"
    }
   ],
   "source": [
    "status_given_ip = (\n",
    "    df.groupby('ip')\n",
    "    .status_code.value_counts(normalize=True)\n",
    "    .rename('proba_status_given_ip')\n",
    "    .reset_index()\n",
    ")\n",
    "status_given_ip.head()\n"
   ]
  },
  {
   "cell_type": "code",
   "execution_count": 17,
   "id": "c23ca7ab-d49c-4d60-a693-b7fdf885e032",
   "metadata": {},
   "outputs": [
    {
     "data": {
      "text/html": [
       "<div>\n",
       "<style scoped>\n",
       "    .dataframe tbody tr th:only-of-type {\n",
       "        vertical-align: middle;\n",
       "    }\n",
       "\n",
       "    .dataframe tbody tr th {\n",
       "        vertical-align: top;\n",
       "    }\n",
       "\n",
       "    .dataframe thead th {\n",
       "        text-align: right;\n",
       "    }\n",
       "</style>\n",
       "<table border=\"1\" class=\"dataframe\">\n",
       "  <thead>\n",
       "    <tr style=\"text-align: right;\">\n",
       "      <th></th>\n",
       "      <th>ip</th>\n",
       "      <th>status_code</th>\n",
       "      <th>proba_status_given_ip</th>\n",
       "    </tr>\n",
       "  </thead>\n",
       "  <tbody>\n",
       "    <tr>\n",
       "      <th>17</th>\n",
       "      <td>72.181.113.170</td>\n",
       "      <td>200</td>\n",
       "      <td>0.996737</td>\n",
       "    </tr>\n",
       "    <tr>\n",
       "      <th>18</th>\n",
       "      <td>72.181.113.170</td>\n",
       "      <td>499</td>\n",
       "      <td>0.003263</td>\n",
       "    </tr>\n",
       "    <tr>\n",
       "      <th>19</th>\n",
       "      <td>97.105.19.58</td>\n",
       "      <td>200</td>\n",
       "      <td>0.998833</td>\n",
       "    </tr>\n",
       "    <tr>\n",
       "      <th>20</th>\n",
       "      <td>97.105.19.58</td>\n",
       "      <td>499</td>\n",
       "      <td>0.001167</td>\n",
       "    </tr>\n",
       "  </tbody>\n",
       "</table>\n",
       "</div>"
      ],
      "text/plain": [
       "                ip status_code  proba_status_given_ip\n",
       "17  72.181.113.170         200               0.996737\n",
       "18  72.181.113.170         499               0.003263\n",
       "19    97.105.19.58         200               0.998833\n",
       "20    97.105.19.58         499               0.001167"
      ]
     },
     "execution_count": 17,
     "metadata": {},
     "output_type": "execute_result"
    }
   ],
   "source": [
    "status_given_ip[status_given_ip.proba_status_given_ip < 1]\n"
   ]
  },
  {
   "cell_type": "markdown",
   "id": "3a85c09f-491e-4cee-b269-769568c567c6",
   "metadata": {},
   "source": [
    "#### Examining request method and http version"
   ]
  },
  {
   "cell_type": "code",
   "execution_count": 46,
   "id": "e1ba0888-a63b-4fba-a4f3-b11c44e277f5",
   "metadata": {},
   "outputs": [
    {
     "data": {
      "text/plain": [
       "GET    13974\n",
       "Name: request_method, dtype: int64"
      ]
     },
     "execution_count": 46,
     "metadata": {},
     "output_type": "execute_result"
    }
   ],
   "source": [
    "df.request_method.value_counts()"
   ]
  },
  {
   "cell_type": "code",
   "execution_count": 47,
   "id": "276af844-98ef-4b3d-a990-e691f9a11267",
   "metadata": {},
   "outputs": [
    {
     "data": {
      "text/plain": [
       "HTTP/1.1    13974\n",
       "Name: http_version, dtype: int64"
      ]
     },
     "execution_count": 47,
     "metadata": {},
     "output_type": "execute_result"
    }
   ],
   "source": [
    "df.http_version.value_counts()"
   ]
  },
  {
   "cell_type": "markdown",
   "id": "669acde0-0828-4181-9cce-e497e3fa9e65",
   "metadata": {},
   "source": [
    "Considering request method and http version only have one value no need to explore these further. If had anything other than these values it would be anomalous"
   ]
  },
  {
   "cell_type": "markdown",
   "id": "421365ab-adc0-42ad-9c10-70c6f268dcf3",
   "metadata": {},
   "source": [
    "#### Time - day of the week and hour of the day"
   ]
  },
  {
   "cell_type": "code",
   "execution_count": 24,
   "id": "28c02b99-aae4-4ed6-b14f-0e5f628cae5d",
   "metadata": {},
   "outputs": [],
   "source": [
    "df.timestamp = pd.to_datetime(df.timestamp)"
   ]
  },
  {
   "cell_type": "code",
   "execution_count": 33,
   "id": "aaf68178-b756-4ef1-b308-2bf4277687e7",
   "metadata": {},
   "outputs": [
    {
     "data": {
      "text/plain": [
       "timestamp  status_code\n",
       "Tuesday    200            0.998828\n",
       "           499            0.001172\n",
       "Wednesday  200            0.999013\n",
       "           499            0.000987\n",
       "Name: status_code, dtype: float64"
      ]
     },
     "execution_count": 33,
     "metadata": {},
     "output_type": "execute_result"
    }
   ],
   "source": [
    "df.groupby(df.timestamp.dt.day_name()).status_code.value_counts(normalize=True)"
   ]
  },
  {
   "cell_type": "code",
   "execution_count": 42,
   "id": "d41fcd0b-c3d0-4ba6-a771-4306ccab491e",
   "metadata": {},
   "outputs": [
    {
     "data": {
      "text/plain": [
       "timestamp  user_agent                                                                                                               \n",
       "Tuesday    python-requests/2.21.0                                                                                                       0.836026\n",
       "           python-requests/2.20.1                                                                                                       0.159956\n",
       "           Mozilla/5.0 (Macintosh; Intel Mac OS X 10_14_4) AppleWebKit/537.36 (KHTML, like Gecko) Chrome/73.0.3683.103 Safari/537.36    0.002846\n",
       "           Slackbot-LinkExpanding 1.0 (+https://api.slack.com/robots)                                                                   0.000502\n",
       "           Slackbot 1.0 (+https://api.slack.com/robots)                                                                                 0.000419\n",
       "           Mozilla/5.0 (Macintosh; Intel Mac OS X 10_14_3) AppleWebKit/537.36 (KHTML, like Gecko) Chrome/73.0.3683.103 Safari/537.36    0.000167\n",
       "           Python-urllib/3.7                                                                                                            0.000084\n",
       "Wednesday  python-requests/2.21.0                                                                                                       0.993093\n",
       "           Mozilla/5.0 (Macintosh; Intel Mac OS X 10.14; rv:66.0) Gecko/20100101 Firefox/66.0                                           0.003947\n",
       "           Mozilla/5.0 (Macintosh; Intel Mac OS X 10_14_3) AppleWebKit/537.36 (KHTML, like Gecko) Chrome/72.0.3626.121 Safari/537.36    0.000987\n",
       "           Mozilla/5.0 (Macintosh; Intel Mac OS X 10_14_3) AppleWebKit/537.36 (KHTML, like Gecko) Chrome/73.0.3683.103 Safari/537.36    0.000987\n",
       "           Slackbot 1.0 (+https://api.slack.com/robots)                                                                                 0.000493\n",
       "           Slackbot-LinkExpanding 1.0 (+https://api.slack.com/robots)                                                                   0.000493\n",
       "Name: user_agent, dtype: float64"
      ]
     },
     "execution_count": 42,
     "metadata": {},
     "output_type": "execute_result"
    }
   ],
   "source": [
    "df.groupby(df.timestamp.dt.day_name()).user_agent.value_counts(normalize=True)"
   ]
  },
  {
   "cell_type": "markdown",
   "id": "33613be0-3430-4b1f-9f14-b448da2b8306",
   "metadata": {},
   "source": [
    "Day of the week and status codes - appear to show about the same probability of 499 for both days. Grouping by day of the week and looking at the other features do not show anything remarkable, though for user_agent it would be very rare on Wednesdays to something other than python-requests/2.21.0."
   ]
  },
  {
   "cell_type": "code",
   "execution_count": 54,
   "id": "09f0c68a-4566-4f51-80a3-0062d2aef40a",
   "metadata": {},
   "outputs": [
    {
     "data": {
      "text/plain": [
       "20    0.328252\n",
       "21    0.245456\n",
       "19    0.160584\n",
       "22    0.120510\n",
       "3     0.057750\n",
       "1     0.027193\n",
       "2     0.020323\n",
       "5     0.018105\n",
       "4     0.014956\n",
       "12    0.005009\n",
       "6     0.001073\n",
       "0     0.000572\n",
       "23    0.000143\n",
       "10    0.000072\n",
       "Name: timestamp, dtype: float64"
      ]
     },
     "execution_count": 54,
     "metadata": {},
     "output_type": "execute_result"
    }
   ],
   "source": [
    "df.timestamp.dt.hour.value_counts(normalize=True)"
   ]
  },
  {
   "cell_type": "code",
   "execution_count": 53,
   "id": "eb133330-0f05-4e16-a24a-9e8024a01868",
   "metadata": {},
   "outputs": [
    {
     "data": {
      "text/plain": [
       "0.8548017747244884"
      ]
     },
     "execution_count": 53,
     "metadata": {},
     "output_type": "execute_result"
    }
   ],
   "source": [
    "df.timestamp.dt.hour.value_counts(normalize=True).head(4).sum()"
   ]
  },
  {
   "cell_type": "markdown",
   "id": "03e0eb2c-acb0-45e7-aae4-be9975aaf254",
   "metadata": {},
   "source": [
    "Over 85% of timestamps are from the hours 19-22"
   ]
  },
  {
   "cell_type": "code",
   "execution_count": 55,
   "id": "7daefa7f-3cf0-440b-9cf5-1b363a6debab",
   "metadata": {},
   "outputs": [
    {
     "data": {
      "text/plain": [
       "200    13958\n",
       "499       16\n",
       "Name: status_code, dtype: int64"
      ]
     },
     "execution_count": 55,
     "metadata": {},
     "output_type": "execute_result"
    }
   ],
   "source": [
    "df.status_code.value_counts()"
   ]
  },
  {
   "cell_type": "markdown",
   "id": "b9cbc182-b430-4859-9593-6fac95b88e8c",
   "metadata": {},
   "source": [
    "499 codes appear to be anomolous - are these linked with other features?"
   ]
  },
  {
   "cell_type": "code",
   "execution_count": 60,
   "id": "96f02614-8ea7-4a68-924f-f8a5d4bc4afa",
   "metadata": {},
   "outputs": [
    {
     "data": {
      "text/plain": [
       "97.105.19.58      0.875\n",
       "72.181.113.170    0.125\n",
       "Name: ip, dtype: float64"
      ]
     },
     "execution_count": 60,
     "metadata": {},
     "output_type": "execute_result"
    }
   ],
   "source": [
    "df[df.status_code=='499'].ip.value_counts(normalize=True)"
   ]
  },
  {
   "cell_type": "code",
   "execution_count": 62,
   "id": "7ced7ca2-12e6-4611-b8bf-009cacc773dc",
   "metadata": {},
   "outputs": [
    {
     "data": {
      "text/plain": [
       "/api/v1/items             4\n",
       "/api/v1/sales?page=2      3\n",
       "/api/v1/sales?page=21     1\n",
       "/api/v1/sales?page=29     1\n",
       "/api/v1/sales?page=115    1\n",
       "/api/v1/sales?page=47     1\n",
       "/api/v1/sales?page=25     1\n",
       "/api/v1/sales?page=80     1\n",
       "/api/v1/sales?page=69     1\n",
       "/api/v1/sales?page=8      1\n",
       "/api/v1/sales?page=133    1\n",
       "Name: request_path, dtype: int64"
      ]
     },
     "execution_count": 62,
     "metadata": {},
     "output_type": "execute_result"
    }
   ],
   "source": [
    "df[df.status_code=='499'].request_path.value_counts()"
   ]
  },
  {
   "cell_type": "markdown",
   "id": "ef964a2d-8057-4590-ae61-e6b0d5ced406",
   "metadata": {},
   "source": [
    "The 499s come from only 2 IP addresses. Nearly 90% from 97.105.19.58, which is the most common IP address by far in the dataset. Independent of request path - all over sales pages and items."
   ]
  },
  {
   "cell_type": "code",
   "execution_count": 85,
   "id": "97a35aa4-453b-4e67-b6f4-59fa0b2ec92d",
   "metadata": {},
   "outputs": [
    {
     "data": {
      "image/png": "[encoded data removed]",
      "text/plain": [
       "<Figure size 432x288 with 1 Axes>"
      ]
     },
     "metadata": {
      "needs_background": "light"
     },
     "output_type": "display_data"
    }
   ],
   "source": [
    "df.user_agent.value_counts(normalize=True).head(2).plot.bar()\n",
    "plt.title('User Agent Percentile - top 2 agents')\n",
    "None"
   ]
  },
  {
   "cell_type": "code",
   "execution_count": 89,
   "id": "07514e75-978e-4d1b-9d16-4a24e38a64ae",
   "metadata": {},
   "outputs": [
    {
     "data": {
      "text/plain": [
       "user_agent                                                                                                                 status_code\n",
       "Mozilla/5.0 (Macintosh; Intel Mac OS X 10.14; rv:66.0) Gecko/20100101 Firefox/66.0                                         200            1.000000\n",
       "Mozilla/5.0 (Macintosh; Intel Mac OS X 10_14_3) AppleWebKit/537.36 (KHTML, like Gecko) Chrome/72.0.3626.121 Safari/537.36  200            1.000000\n",
       "Mozilla/5.0 (Macintosh; Intel Mac OS X 10_14_3) AppleWebKit/537.36 (KHTML, like Gecko) Chrome/73.0.3683.103 Safari/537.36  200            1.000000\n",
       "Mozilla/5.0 (Macintosh; Intel Mac OS X 10_14_4) AppleWebKit/537.36 (KHTML, like Gecko) Chrome/73.0.3683.103 Safari/537.36  200            1.000000\n",
       "Python-urllib/3.7                                                                                                          200            1.000000\n",
       "Slackbot 1.0 (+https://api.slack.com/robots)                                                                               200            1.000000\n",
       "Slackbot-LinkExpanding 1.0 (+https://api.slack.com/robots)                                                                 200            1.000000\n",
       "python-requests/2.20.1                                                                                                     200            0.997907\n",
       "                                                                                                                           499            0.002093\n",
       "python-requests/2.21.0                                                                                                     200            0.999000\n",
       "                                                                                                                           499            0.001000\n",
       "Name: status_code, dtype: float64"
      ]
     },
     "execution_count": 89,
     "metadata": {},
     "output_type": "execute_result"
    }
   ],
   "source": [
    "df.groupby('user_agent').status_code.value_counts(normalize=True)"
   ]
  },
  {
   "cell_type": "code",
   "execution_count": 93,
   "id": "718c50ac-081f-41dd-9ecb-7fa6b2e378b6",
   "metadata": {},
   "outputs": [
    {
     "data": {
      "text/plain": [
       "Text(0.5, 1.0, 'Size of Request Binned')"
      ]
     },
     "execution_count": 93,
     "metadata": {},
     "output_type": "execute_result"
    },
    {
     "data": {
      "image/png": "[encoded data removed]",
      "text/plain": [
       "<Figure size 432x288 with 1 Axes>"
      ]
     },
     "metadata": {
      "needs_background": "light"
     },
     "output_type": "display_data"
    }
   ],
   "source": [
    "pd.cut(df['size'],4, labels=['small','medium','large','gigantic']).value_counts().plot.bar()\n",
    "plt.title('Size of Request Binned')"
   ]
  },
  {
   "cell_type": "code",
   "execution_count": 64,
   "id": "6c6dd27d-3268-4865-b87b-aab1064fd069",
   "metadata": {},
   "outputs": [
    {
     "data": {
      "text/html": [
       "<div>\n",
       "<style scoped>\n",
       "    .dataframe tbody tr th:only-of-type {\n",
       "        vertical-align: middle;\n",
       "    }\n",
       "\n",
       "    .dataframe tbody tr th {\n",
       "        vertical-align: top;\n",
       "    }\n",
       "\n",
       "    .dataframe thead th {\n",
       "        text-align: right;\n",
       "    }\n",
       "</style>\n",
       "<table border=\"1\" class=\"dataframe\">\n",
       "  <thead>\n",
       "    <tr style=\"text-align: right;\">\n",
       "      <th></th>\n",
       "      <th>ip</th>\n",
       "      <th>timestamp</th>\n",
       "      <th>request_method</th>\n",
       "      <th>request_path</th>\n",
       "      <th>http_version</th>\n",
       "      <th>status_code</th>\n",
       "      <th>size</th>\n",
       "      <th>user_agent</th>\n",
       "    </tr>\n",
       "  </thead>\n",
       "  <tbody>\n",
       "    <tr>\n",
       "      <th>0</th>\n",
       "      <td>97.105.19.58</td>\n",
       "      <td>2019-04-16 19:34:42</td>\n",
       "      <td>GET</td>\n",
       "      <td>/api/v1/sales?page=81</td>\n",
       "      <td>HTTP/1.1</td>\n",
       "      <td>200</td>\n",
       "      <td>512495</td>\n",
       "      <td>python-requests/2.21.0</td>\n",
       "    </tr>\n",
       "    <tr>\n",
       "      <th>1</th>\n",
       "      <td>97.105.19.58</td>\n",
       "      <td>2019-04-16 19:34:42</td>\n",
       "      <td>GET</td>\n",
       "      <td>/api/v1/items</td>\n",
       "      <td>HTTP/1.1</td>\n",
       "      <td>200</td>\n",
       "      <td>3561</td>\n",
       "      <td>python-requests/2.21.0</td>\n",
       "    </tr>\n",
       "    <tr>\n",
       "      <th>2</th>\n",
       "      <td>97.105.19.58</td>\n",
       "      <td>2019-04-16 19:34:44</td>\n",
       "      <td>GET</td>\n",
       "      <td>/api/v1/sales?page=82</td>\n",
       "      <td>HTTP/1.1</td>\n",
       "      <td>200</td>\n",
       "      <td>510103</td>\n",
       "      <td>python-requests/2.21.0</td>\n",
       "    </tr>\n",
       "    <tr>\n",
       "      <th>3</th>\n",
       "      <td>97.105.19.58</td>\n",
       "      <td>2019-04-16 19:34:46</td>\n",
       "      <td>GET</td>\n",
       "      <td>/api/v1/sales?page=83</td>\n",
       "      <td>HTTP/1.1</td>\n",
       "      <td>200</td>\n",
       "      <td>510003</td>\n",
       "      <td>python-requests/2.21.0</td>\n",
       "    </tr>\n",
       "    <tr>\n",
       "      <th>4</th>\n",
       "      <td>97.105.19.58</td>\n",
       "      <td>2019-04-16 19:34:48</td>\n",
       "      <td>GET</td>\n",
       "      <td>/api/v1/sales?page=84</td>\n",
       "      <td>HTTP/1.1</td>\n",
       "      <td>200</td>\n",
       "      <td>511963</td>\n",
       "      <td>python-requests/2.21.0</td>\n",
       "    </tr>\n",
       "    <tr>\n",
       "      <th>...</th>\n",
       "      <td>...</td>\n",
       "      <td>...</td>\n",
       "      <td>...</td>\n",
       "      <td>...</td>\n",
       "      <td>...</td>\n",
       "      <td>...</td>\n",
       "      <td>...</td>\n",
       "      <td>...</td>\n",
       "    </tr>\n",
       "    <tr>\n",
       "      <th>13969</th>\n",
       "      <td>97.105.19.58</td>\n",
       "      <td>2019-04-17 12:55:12</td>\n",
       "      <td>GET</td>\n",
       "      <td>/api/v1/sales?page=62</td>\n",
       "      <td>HTTP/1.1</td>\n",
       "      <td>200</td>\n",
       "      <td>511544</td>\n",
       "      <td>python-requests/2.21.0</td>\n",
       "    </tr>\n",
       "    <tr>\n",
       "      <th>13970</th>\n",
       "      <td>97.105.19.58</td>\n",
       "      <td>2019-04-17 12:55:12</td>\n",
       "      <td>GET</td>\n",
       "      <td>/api/v1/sales?page=65</td>\n",
       "      <td>HTTP/1.1</td>\n",
       "      <td>200</td>\n",
       "      <td>511201</td>\n",
       "      <td>python-requests/2.21.0</td>\n",
       "    </tr>\n",
       "    <tr>\n",
       "      <th>13971</th>\n",
       "      <td>97.105.19.58</td>\n",
       "      <td>2019-04-17 12:55:13</td>\n",
       "      <td>GET</td>\n",
       "      <td>/api/v1/sales?page=73</td>\n",
       "      <td>HTTP/1.1</td>\n",
       "      <td>200</td>\n",
       "      <td>511781</td>\n",
       "      <td>python-requests/2.21.0</td>\n",
       "    </tr>\n",
       "    <tr>\n",
       "      <th>13972</th>\n",
       "      <td>97.105.19.58</td>\n",
       "      <td>2019-04-17 12:55:13</td>\n",
       "      <td>GET</td>\n",
       "      <td>/api/v1/sales?page=69</td>\n",
       "      <td>HTTP/1.1</td>\n",
       "      <td>200</td>\n",
       "      <td>510136</td>\n",
       "      <td>python-requests/2.21.0</td>\n",
       "    </tr>\n",
       "    <tr>\n",
       "      <th>13973</th>\n",
       "      <td>97.105.19.58</td>\n",
       "      <td>2019-04-17 12:55:14</td>\n",
       "      <td>GET</td>\n",
       "      <td>/api/v1/sales?page=71</td>\n",
       "      <td>HTTP/1.1</td>\n",
       "      <td>200</td>\n",
       "      <td>510166</td>\n",
       "      <td>python-requests/2.21.0</td>\n",
       "    </tr>\n",
       "  </tbody>\n",
       "</table>\n",
       "<p>13974 rows × 8 columns</p>\n",
       "</div>"
      ],
      "text/plain": [
       "                 ip           timestamp request_method           request_path  \\\n",
       "0      97.105.19.58 2019-04-16 19:34:42            GET  /api/v1/sales?page=81   \n",
       "1      97.105.19.58 2019-04-16 19:34:42            GET          /api/v1/items   \n",
       "2      97.105.19.58 2019-04-16 19:34:44            GET  /api/v1/sales?page=82   \n",
       "3      97.105.19.58 2019-04-16 19:34:46            GET  /api/v1/sales?page=83   \n",
       "4      97.105.19.58 2019-04-16 19:34:48            GET  /api/v1/sales?page=84   \n",
       "...             ...                 ...            ...                    ...   \n",
       "13969  97.105.19.58 2019-04-17 12:55:12            GET  /api/v1/sales?page=62   \n",
       "13970  97.105.19.58 2019-04-17 12:55:12            GET  /api/v1/sales?page=65   \n",
       "13971  97.105.19.58 2019-04-17 12:55:13            GET  /api/v1/sales?page=73   \n",
       "13972  97.105.19.58 2019-04-17 12:55:13            GET  /api/v1/sales?page=69   \n",
       "13973  97.105.19.58 2019-04-17 12:55:14            GET  /api/v1/sales?page=71   \n",
       "\n",
       "      http_version status_code    size              user_agent  \n",
       "0         HTTP/1.1         200  512495  python-requests/2.21.0  \n",
       "1         HTTP/1.1         200    3561  python-requests/2.21.0  \n",
       "2         HTTP/1.1         200  510103  python-requests/2.21.0  \n",
       "3         HTTP/1.1         200  510003  python-requests/2.21.0  \n",
       "4         HTTP/1.1         200  511963  python-requests/2.21.0  \n",
       "...            ...         ...     ...                     ...  \n",
       "13969     HTTP/1.1         200  511544  python-requests/2.21.0  \n",
       "13970     HTTP/1.1         200  511201  python-requests/2.21.0  \n",
       "13971     HTTP/1.1         200  511781  python-requests/2.21.0  \n",
       "13972     HTTP/1.1         200  510136  python-requests/2.21.0  \n",
       "13973     HTTP/1.1         200  510166  python-requests/2.21.0  \n",
       "\n",
       "[13974 rows x 8 columns]"
      ]
     },
     "execution_count": 64,
     "metadata": {},
     "output_type": "execute_result"
    }
   ],
   "source": [
    "df"
   ]
  },
  {
   "cell_type": "code",
   "execution_count": null,
   "id": "4a288c8d-07a7-4e13-af9a-1bb0a272b98e",
   "metadata": {},
   "outputs": [],
   "source": []
  }
 ],
 "metadata": {
  "kernelspec": {
   "display_name": "Python 3 (ipykernel)",
   "language": "python",
   "name": "python3"
  },
  "language_info": {
   "codemirror_mode": {
    "name": "ipython",
    "version": 3
   },
   "file_extension": ".py",
   "mimetype": "text/x-python",
   "name": "python",
   "nbconvert_exporter": "python",
   "pygments_lexer": "ipython3",
   "version": "3.9.7"
  }
 },
 "nbformat": 4,
 "nbformat_minor": 5
}
