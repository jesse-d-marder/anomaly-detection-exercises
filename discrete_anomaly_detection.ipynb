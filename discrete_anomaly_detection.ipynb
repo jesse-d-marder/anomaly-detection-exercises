{
 "cells": [
  {
   "cell_type": "code",
   "execution_count": 1,
   "id": "310a9ec8-6500-4b8c-89ff-ea01bd3e5ca3",
   "metadata": {},
   "outputs": [],
   "source": [
    "import matplotlib.pyplot as plt\n",
    "import numpy as np\n",
    "import pandas as pd\n",
    "import seaborn as sns\n",
    "from sklearn import metrics\n",
    "from env import get_db_url"
   ]
  },
  {
   "cell_type": "code",
   "execution_count": 9,
   "id": "cc07699a-fef9-493c-a20e-b149448025bb",
   "metadata": {},
   "outputs": [
    {
     "data": {
      "text/html": [
       "<div>\n",
       "<style scoped>\n",
       "    .dataframe tbody tr th:only-of-type {\n",
       "        vertical-align: middle;\n",
       "    }\n",
       "\n",
       "    .dataframe tbody tr th {\n",
       "        vertical-align: top;\n",
       "    }\n",
       "\n",
       "    .dataframe thead th {\n",
       "        text-align: right;\n",
       "    }\n",
       "</style>\n",
       "<table border=\"1\" class=\"dataframe\">\n",
       "  <thead>\n",
       "    <tr style=\"text-align: right;\">\n",
       "      <th></th>\n",
       "      <th>ip</th>\n",
       "      <th>timestamp</th>\n",
       "      <th>request_method</th>\n",
       "      <th>request_path</th>\n",
       "      <th>http_version</th>\n",
       "      <th>status_code</th>\n",
       "      <th>size</th>\n",
       "      <th>user_agent</th>\n",
       "    </tr>\n",
       "  </thead>\n",
       "  <tbody>\n",
       "    <tr>\n",
       "      <th>0</th>\n",
       "      <td>97.105.19.58</td>\n",
       "      <td>16/Apr/2019 19:34:42</td>\n",
       "      <td>GET</td>\n",
       "      <td>/api/v1/sales?page=81</td>\n",
       "      <td>HTTP/1.1</td>\n",
       "      <td>200</td>\n",
       "      <td>512495</td>\n",
       "      <td>python-requests/2.21.0</td>\n",
       "    </tr>\n",
       "    <tr>\n",
       "      <th>1</th>\n",
       "      <td>97.105.19.58</td>\n",
       "      <td>16/Apr/2019 19:34:42</td>\n",
       "      <td>GET</td>\n",
       "      <td>/api/v1/items</td>\n",
       "      <td>HTTP/1.1</td>\n",
       "      <td>200</td>\n",
       "      <td>3561</td>\n",
       "      <td>python-requests/2.21.0</td>\n",
       "    </tr>\n",
       "    <tr>\n",
       "      <th>2</th>\n",
       "      <td>97.105.19.58</td>\n",
       "      <td>16/Apr/2019 19:34:44</td>\n",
       "      <td>GET</td>\n",
       "      <td>/api/v1/sales?page=82</td>\n",
       "      <td>HTTP/1.1</td>\n",
       "      <td>200</td>\n",
       "      <td>510103</td>\n",
       "      <td>python-requests/2.21.0</td>\n",
       "    </tr>\n",
       "    <tr>\n",
       "      <th>3</th>\n",
       "      <td>97.105.19.58</td>\n",
       "      <td>16/Apr/2019 19:34:46</td>\n",
       "      <td>GET</td>\n",
       "      <td>/api/v1/sales?page=83</td>\n",
       "      <td>HTTP/1.1</td>\n",
       "      <td>200</td>\n",
       "      <td>510003</td>\n",
       "      <td>python-requests/2.21.0</td>\n",
       "    </tr>\n",
       "    <tr>\n",
       "      <th>4</th>\n",
       "      <td>97.105.19.58</td>\n",
       "      <td>16/Apr/2019 19:34:48</td>\n",
       "      <td>GET</td>\n",
       "      <td>/api/v1/sales?page=84</td>\n",
       "      <td>HTTP/1.1</td>\n",
       "      <td>200</td>\n",
       "      <td>511963</td>\n",
       "      <td>python-requests/2.21.0</td>\n",
       "    </tr>\n",
       "  </tbody>\n",
       "</table>\n",
       "</div>"
      ],
      "text/plain": [
       "             ip             timestamp request_method           request_path  \\\n",
       "0  97.105.19.58  16/Apr/2019 19:34:42            GET  /api/v1/sales?page=81   \n",
       "1  97.105.19.58  16/Apr/2019 19:34:42            GET          /api/v1/items   \n",
       "2  97.105.19.58  16/Apr/2019 19:34:44            GET  /api/v1/sales?page=82   \n",
       "3  97.105.19.58  16/Apr/2019 19:34:46            GET  /api/v1/sales?page=83   \n",
       "4  97.105.19.58  16/Apr/2019 19:34:48            GET  /api/v1/sales?page=84   \n",
       "\n",
       "  http_version status_code    size              user_agent  \n",
       "0     HTTP/1.1         200  512495  python-requests/2.21.0  \n",
       "1     HTTP/1.1         200    3561  python-requests/2.21.0  \n",
       "2     HTTP/1.1         200  510103  python-requests/2.21.0  \n",
       "3     HTTP/1.1         200  510003  python-requests/2.21.0  \n",
       "4     HTTP/1.1         200  511963  python-requests/2.21.0  "
      ]
     },
     "execution_count": 9,
     "metadata": {},
     "output_type": "execute_result"
    }
   ],
   "source": [
    "# function to deal with parsing one entry in our log data\n",
    "def parse_log_entry(entry):\n",
    "    parts = entry.split()\n",
    "    output = {}\n",
    "    output['ip'] = parts[0]\n",
    "    output['timestamp'] = parts[3][1:].replace(':', ' ', 1)\n",
    "    output['request_method'] = parts[5][1:]\n",
    "    output['request_path'] = parts[6]\n",
    "    output['http_version'] = parts[7][:-1]\n",
    "    output['status_code'] = parts[8]\n",
    "    output['size'] = int(parts[9])\n",
    "    output['user_agent'] = ' '.join(parts[11:]).replace('\"', '')\n",
    "    return pd.Series(output)\n",
    "\n",
    "df = pd.read_sql('SELECT * FROM api_access', get_db_url('logs'))\n",
    "# df = pd.concat([df.entry, df.entry.apply(parse_log_entry)], axis=1)\n",
    "df = df.entry.apply(parse_log_entry)\n",
    "df.head()\n"
   ]
  },
  {
   "cell_type": "markdown",
   "id": "3c2b21bb-78fa-4ac4-85b9-39afdc83f964",
   "metadata": {},
   "source": [
    "Use basic probability to identify anomalous requests. Using the methods covered in this lesson, examine the rest of the features in the api access logs data set."
   ]
  },
  {
   "cell_type": "code",
   "execution_count": 10,
   "id": "4da63781-ca68-4e06-bd49-bde7be8e452e",
   "metadata": {},
   "outputs": [],
   "source": [
    "def value_counts_and_frequencies(s: pd.Series, dropna=True) -> pd.DataFrame:\n",
    "    return pd.merge(\n",
    "        s.value_counts(dropna=False).rename('count'),\n",
    "        s.value_counts(dropna=False, normalize=True).rename('proba'),\n",
    "        left_index=True,\n",
    "        right_index=True,\n",
    "    )"
   ]
  },
  {
   "cell_type": "markdown",
   "id": "af1b8d56-52c3-4ba4-aa5d-b6db0f6eb4f8",
   "metadata": {
    "tags": []
   },
   "source": [
    "#### IP Address"
   ]
  },
  {
   "cell_type": "code",
   "execution_count": 11,
   "id": "813d4c32-8006-4e93-b4d3-51cafa6a3da1",
   "metadata": {},
   "outputs": [],
   "source": [
    "ip_df = value_counts_and_frequencies(df.ip)"
   ]
  },
  {
   "cell_type": "code",
   "execution_count": 12,
   "id": "15dd0bde-8be7-414b-a27b-7bd97b6229e6",
   "metadata": {},
   "outputs": [
    {
     "data": {
      "text/plain": [
       "<AxesSubplot:>"
      ]
     },
     "execution_count": 12,
     "metadata": {},
     "output_type": "execute_result"
    },
    {
     "data": {
      "image/png": "[encoded data removed]",
      "text/plain": [
       "<Figure size 360x648 with 1 Axes>"
      ]
     },
     "metadata": {
      "needs_background": "light"
     },
     "output_type": "display_data"
    }
   ],
   "source": [
    "ip_df['count'].sort_values().tail(5).plot.barh(figsize=(5, 9))\n"
   ]
  },
  {
   "cell_type": "markdown",
   "id": "d0544030-2021-4666-8846-d0753d4a2900",
   "metadata": {},
   "source": [
    "#### Status by IP Address"
   ]
  },
  {
   "cell_type": "code",
   "execution_count": 13,
   "id": "bfb433a4-89aa-4b1f-b388-2e9414162205",
   "metadata": {},
   "outputs": [
    {
     "data": {
      "text/html": [
       "<div>\n",
       "<style scoped>\n",
       "    .dataframe tbody tr th:only-of-type {\n",
       "        vertical-align: middle;\n",
       "    }\n",
       "\n",
       "    .dataframe tbody tr th {\n",
       "        vertical-align: top;\n",
       "    }\n",
       "\n",
       "    .dataframe thead th {\n",
       "        text-align: right;\n",
       "    }\n",
       "</style>\n",
       "<table border=\"1\" class=\"dataframe\">\n",
       "  <thead>\n",
       "    <tr style=\"text-align: right;\">\n",
       "      <th></th>\n",
       "      <th>ip</th>\n",
       "      <th>status_code</th>\n",
       "      <th>proba_status_given_ip</th>\n",
       "    </tr>\n",
       "  </thead>\n",
       "  <tbody>\n",
       "    <tr>\n",
       "      <th>0</th>\n",
       "      <td>173.173.113.51</td>\n",
       "      <td>200</td>\n",
       "      <td>1.0</td>\n",
       "    </tr>\n",
       "    <tr>\n",
       "      <th>1</th>\n",
       "      <td>24.26.242.9</td>\n",
       "      <td>200</td>\n",
       "      <td>1.0</td>\n",
       "    </tr>\n",
       "    <tr>\n",
       "      <th>2</th>\n",
       "      <td>3.88.129.158</td>\n",
       "      <td>200</td>\n",
       "      <td>1.0</td>\n",
       "    </tr>\n",
       "    <tr>\n",
       "      <th>3</th>\n",
       "      <td>3.92.201.136</td>\n",
       "      <td>200</td>\n",
       "      <td>1.0</td>\n",
       "    </tr>\n",
       "    <tr>\n",
       "      <th>4</th>\n",
       "      <td>34.207.64.242</td>\n",
       "      <td>200</td>\n",
       "      <td>1.0</td>\n",
       "    </tr>\n",
       "  </tbody>\n",
       "</table>\n",
       "</div>"
      ],
      "text/plain": [
       "               ip status_code  proba_status_given_ip\n",
       "0  173.173.113.51         200                    1.0\n",
       "1     24.26.242.9         200                    1.0\n",
       "2    3.88.129.158         200                    1.0\n",
       "3    3.92.201.136         200                    1.0\n",
       "4   34.207.64.242         200                    1.0"
      ]
     },
     "execution_count": 13,
     "metadata": {},
     "output_type": "execute_result"
    }
   ],
   "source": [
    "status_given_ip = (\n",
    "    df.groupby('ip')\n",
    "    .status_code.value_counts(normalize=True)\n",
    "    .rename('proba_status_given_ip')\n",
    "    .reset_index()\n",
    ")\n",
    "status_given_ip.head()\n"
   ]
  },
  {
   "cell_type": "code",
   "execution_count": 14,
   "id": "c23ca7ab-d49c-4d60-a693-b7fdf885e032",
   "metadata": {},
   "outputs": [
    {
     "data": {
      "text/html": [
       "<div>\n",
       "<style scoped>\n",
       "    .dataframe tbody tr th:only-of-type {\n",
       "        vertical-align: middle;\n",
       "    }\n",
       "\n",
       "    .dataframe tbody tr th {\n",
       "        vertical-align: top;\n",
       "    }\n",
       "\n",
       "    .dataframe thead th {\n",
       "        text-align: right;\n",
       "    }\n",
       "</style>\n",
       "<table border=\"1\" class=\"dataframe\">\n",
       "  <thead>\n",
       "    <tr style=\"text-align: right;\">\n",
       "      <th></th>\n",
       "      <th>ip</th>\n",
       "      <th>status_code</th>\n",
       "      <th>proba_status_given_ip</th>\n",
       "    </tr>\n",
       "  </thead>\n",
       "  <tbody>\n",
       "    <tr>\n",
       "      <th>17</th>\n",
       "      <td>72.181.113.170</td>\n",
       "      <td>200</td>\n",
       "      <td>0.996737</td>\n",
       "    </tr>\n",
       "    <tr>\n",
       "      <th>18</th>\n",
       "      <td>72.181.113.170</td>\n",
       "      <td>499</td>\n",
       "      <td>0.003263</td>\n",
       "    </tr>\n",
       "    <tr>\n",
       "      <th>19</th>\n",
       "      <td>97.105.19.58</td>\n",
       "      <td>200</td>\n",
       "      <td>0.998833</td>\n",
       "    </tr>\n",
       "    <tr>\n",
       "      <th>20</th>\n",
       "      <td>97.105.19.58</td>\n",
       "      <td>499</td>\n",
       "      <td>0.001167</td>\n",
       "    </tr>\n",
       "  </tbody>\n",
       "</table>\n",
       "</div>"
      ],
      "text/plain": [
       "                ip status_code  proba_status_given_ip\n",
       "17  72.181.113.170         200               0.996737\n",
       "18  72.181.113.170         499               0.003263\n",
       "19    97.105.19.58         200               0.998833\n",
       "20    97.105.19.58         499               0.001167"
      ]
     },
     "execution_count": 14,
     "metadata": {},
     "output_type": "execute_result"
    }
   ],
   "source": [
    "status_given_ip[status_given_ip.proba_status_given_ip < 1]\n"
   ]
  },
  {
   "cell_type": "markdown",
   "id": "3a85c09f-491e-4cee-b269-769568c567c6",
   "metadata": {},
   "source": [
    "#### Examining request method and http version"
   ]
  },
  {
   "cell_type": "code",
   "execution_count": 15,
   "id": "e1ba0888-a63b-4fba-a4f3-b11c44e277f5",
   "metadata": {},
   "outputs": [
    {
     "data": {
      "text/plain": [
       "GET    13974\n",
       "Name: request_method, dtype: int64"
      ]
     },
     "execution_count": 15,
     "metadata": {},
     "output_type": "execute_result"
    }
   ],
   "source": [
    "df.request_method.value_counts()"
   ]
  },
  {
   "cell_type": "code",
   "execution_count": 16,
   "id": "276af844-98ef-4b3d-a990-e691f9a11267",
   "metadata": {},
   "outputs": [
    {
     "data": {
      "text/plain": [
       "HTTP/1.1    13974\n",
       "Name: http_version, dtype: int64"
      ]
     },
     "execution_count": 16,
     "metadata": {},
     "output_type": "execute_result"
    }
   ],
   "source": [
    "df.http_version.value_counts()"
   ]
  },
  {
   "cell_type": "markdown",
   "id": "669acde0-0828-4181-9cce-e497e3fa9e65",
   "metadata": {},
   "source": [
    "Considering request method and http version only have one value no need to explore these further. If had anything other than these values it would be anomalous"
   ]
  },
  {
   "cell_type": "markdown",
   "id": "421365ab-adc0-42ad-9c10-70c6f268dcf3",
   "metadata": {},
   "source": [
    "#### Time - day of the week and hour of the day"
   ]
  },
  {
   "cell_type": "code",
   "execution_count": 17,
   "id": "28c02b99-aae4-4ed6-b14f-0e5f628cae5d",
   "metadata": {},
   "outputs": [],
   "source": [
    "df.timestamp = pd.to_datetime(df.timestamp)"
   ]
  },
  {
   "cell_type": "code",
   "execution_count": 18,
   "id": "aaf68178-b756-4ef1-b308-2bf4277687e7",
   "metadata": {},
   "outputs": [
    {
     "data": {
      "text/plain": [
       "timestamp  status_code\n",
       "Tuesday    200            0.998828\n",
       "           499            0.001172\n",
       "Wednesday  200            0.999013\n",
       "           499            0.000987\n",
       "Name: status_code, dtype: float64"
      ]
     },
     "execution_count": 18,
     "metadata": {},
     "output_type": "execute_result"
    }
   ],
   "source": [
    "df.groupby(df.timestamp.dt.day_name()).status_code.value_counts(normalize=True)"
   ]
  },
  {
   "cell_type": "code",
   "execution_count": 29,
   "id": "d41fcd0b-c3d0-4ba6-a771-4306ccab491e",
   "metadata": {},
   "outputs": [
    {
     "data": {
      "text/html": [
       "<div>\n",
       "<style scoped>\n",
       "    .dataframe tbody tr th:only-of-type {\n",
       "        vertical-align: middle;\n",
       "    }\n",
       "\n",
       "    .dataframe tbody tr th {\n",
       "        vertical-align: top;\n",
       "    }\n",
       "\n",
       "    .dataframe thead th {\n",
       "        text-align: right;\n",
       "    }\n",
       "</style>\n",
       "<table border=\"1\" class=\"dataframe\">\n",
       "  <thead>\n",
       "    <tr style=\"text-align: right;\">\n",
       "      <th></th>\n",
       "      <th></th>\n",
       "      <th>user_agent</th>\n",
       "    </tr>\n",
       "    <tr>\n",
       "      <th>timestamp</th>\n",
       "      <th>user_agent</th>\n",
       "      <th></th>\n",
       "    </tr>\n",
       "  </thead>\n",
       "  <tbody>\n",
       "    <tr>\n",
       "      <th rowspan=\"7\" valign=\"top\">Tuesday</th>\n",
       "      <th>python-requests/2.21.0</th>\n",
       "      <td>0.836026</td>\n",
       "    </tr>\n",
       "    <tr>\n",
       "      <th>python-requests/2.20.1</th>\n",
       "      <td>0.159956</td>\n",
       "    </tr>\n",
       "    <tr>\n",
       "      <th>Mozilla/5.0 (Macintosh; Intel Mac OS X 10_14_4) AppleWebKit/537.36 (KHTML, like Gecko) Chrome/73.0.3683.103 Safari/537.36</th>\n",
       "      <td>0.002846</td>\n",
       "    </tr>\n",
       "    <tr>\n",
       "      <th>Slackbot-LinkExpanding 1.0 (+https://api.slack.com/robots)</th>\n",
       "      <td>0.000502</td>\n",
       "    </tr>\n",
       "    <tr>\n",
       "      <th>Slackbot 1.0 (+https://api.slack.com/robots)</th>\n",
       "      <td>0.000419</td>\n",
       "    </tr>\n",
       "    <tr>\n",
       "      <th>Mozilla/5.0 (Macintosh; Intel Mac OS X 10_14_3) AppleWebKit/537.36 (KHTML, like Gecko) Chrome/73.0.3683.103 Safari/537.36</th>\n",
       "      <td>0.000167</td>\n",
       "    </tr>\n",
       "    <tr>\n",
       "      <th>Python-urllib/3.7</th>\n",
       "      <td>0.000084</td>\n",
       "    </tr>\n",
       "    <tr>\n",
       "      <th rowspan=\"6\" valign=\"top\">Wednesday</th>\n",
       "      <th>python-requests/2.21.0</th>\n",
       "      <td>0.993093</td>\n",
       "    </tr>\n",
       "    <tr>\n",
       "      <th>Mozilla/5.0 (Macintosh; Intel Mac OS X 10.14; rv:66.0) Gecko/20100101 Firefox/66.0</th>\n",
       "      <td>0.003947</td>\n",
       "    </tr>\n",
       "    <tr>\n",
       "      <th>Mozilla/5.0 (Macintosh; Intel Mac OS X 10_14_3) AppleWebKit/537.36 (KHTML, like Gecko) Chrome/72.0.3626.121 Safari/537.36</th>\n",
       "      <td>0.000987</td>\n",
       "    </tr>\n",
       "    <tr>\n",
       "      <th>Mozilla/5.0 (Macintosh; Intel Mac OS X 10_14_3) AppleWebKit/537.36 (KHTML, like Gecko) Chrome/73.0.3683.103 Safari/537.36</th>\n",
       "      <td>0.000987</td>\n",
       "    </tr>\n",
       "    <tr>\n",
       "      <th>Slackbot 1.0 (+https://api.slack.com/robots)</th>\n",
       "      <td>0.000493</td>\n",
       "    </tr>\n",
       "    <tr>\n",
       "      <th>Slackbot-LinkExpanding 1.0 (+https://api.slack.com/robots)</th>\n",
       "      <td>0.000493</td>\n",
       "    </tr>\n",
       "  </tbody>\n",
       "</table>\n",
       "</div>"
      ],
      "text/plain": [
       "                                                              user_agent\n",
       "timestamp user_agent                                                    \n",
       "Tuesday   python-requests/2.21.0                                0.836026\n",
       "          python-requests/2.20.1                                0.159956\n",
       "          Mozilla/5.0 (Macintosh; Intel Mac OS X 10_14_4)...    0.002846\n",
       "          Slackbot-LinkExpanding 1.0 (+https://api.slack....    0.000502\n",
       "          Slackbot 1.0 (+https://api.slack.com/robots)          0.000419\n",
       "          Mozilla/5.0 (Macintosh; Intel Mac OS X 10_14_3)...    0.000167\n",
       "          Python-urllib/3.7                                     0.000084\n",
       "Wednesday python-requests/2.21.0                                0.993093\n",
       "          Mozilla/5.0 (Macintosh; Intel Mac OS X 10.14; r...    0.003947\n",
       "          Mozilla/5.0 (Macintosh; Intel Mac OS X 10_14_3)...    0.000987\n",
       "          Mozilla/5.0 (Macintosh; Intel Mac OS X 10_14_3)...    0.000987\n",
       "          Slackbot 1.0 (+https://api.slack.com/robots)          0.000493\n",
       "          Slackbot-LinkExpanding 1.0 (+https://api.slack....    0.000493"
      ]
     },
     "execution_count": 29,
     "metadata": {},
     "output_type": "execute_result"
    }
   ],
   "source": [
    "pd.DataFrame(df.groupby(df.timestamp.dt.day_name()).user_agent.value_counts(normalize=True))"
   ]
  },
  {
   "cell_type": "markdown",
   "id": "33613be0-3430-4b1f-9f14-b448da2b8306",
   "metadata": {},
   "source": [
    "Day of the week and status codes - appear to show about the same probability of 499 for both days. Grouping by day of the week and looking at the other features do not show anything remarkable, though for user_agent it would be very rare on Wednesdays to see something other than python-requests/2.21.0."
   ]
  },
  {
   "cell_type": "code",
   "execution_count": 30,
   "id": "09f0c68a-4566-4f51-80a3-0062d2aef40a",
   "metadata": {},
   "outputs": [
    {
     "data": {
      "text/plain": [
       "20    0.328252\n",
       "21    0.245456\n",
       "19    0.160584\n",
       "22    0.120510\n",
       "3     0.057750\n",
       "1     0.027193\n",
       "2     0.020323\n",
       "5     0.018105\n",
       "4     0.014956\n",
       "12    0.005009\n",
       "6     0.001073\n",
       "0     0.000572\n",
       "23    0.000143\n",
       "10    0.000072\n",
       "Name: timestamp, dtype: float64"
      ]
     },
     "execution_count": 30,
     "metadata": {},
     "output_type": "execute_result"
    }
   ],
   "source": [
    "df.timestamp.dt.hour.value_counts(normalize=True)"
   ]
  },
  {
   "cell_type": "code",
   "execution_count": 21,
   "id": "eb133330-0f05-4e16-a24a-9e8024a01868",
   "metadata": {},
   "outputs": [
    {
     "data": {
      "text/plain": [
       "0.8548017747244884"
      ]
     },
     "execution_count": 21,
     "metadata": {},
     "output_type": "execute_result"
    }
   ],
   "source": [
    "df.timestamp.dt.hour.value_counts(normalize=True).head(4).sum()"
   ]
  },
  {
   "cell_type": "markdown",
   "id": "03e0eb2c-acb0-45e7-aae4-be9975aaf254",
   "metadata": {},
   "source": [
    "Over 85% of timestamps are from the hours 19-22"
   ]
  },
  {
   "cell_type": "markdown",
   "id": "8d93f79c-b88e-4703-a6a6-9ab7739b7624",
   "metadata": {},
   "source": [
    "When are we getting these suspicious 499 requests?"
   ]
  },
  {
   "cell_type": "code",
   "execution_count": 54,
   "id": "e4b87cc2-b777-4062-9e5a-4feed1adbdbc",
   "metadata": {},
   "outputs": [
    {
     "data": {
      "text/plain": [
       "timestamp\n",
       "2     1\n",
       "3     1\n",
       "19    2\n",
       "20    7\n",
       "21    4\n",
       "22    1\n",
       "dtype: int64"
      ]
     },
     "execution_count": 54,
     "metadata": {},
     "output_type": "execute_result"
    }
   ],
   "source": [
    "df[df.status_code=='499'].groupby(df.timestamp.dt.hour).size()"
   ]
  },
  {
   "cell_type": "markdown",
   "id": "575a9c22-be27-438d-8f10-bab192c9f585",
   "metadata": {},
   "source": [
    "Most are coming in 19-22, two 2-3"
   ]
  },
  {
   "cell_type": "code",
   "execution_count": 22,
   "id": "7daefa7f-3cf0-440b-9cf5-1b363a6debab",
   "metadata": {},
   "outputs": [
    {
     "data": {
      "text/plain": [
       "200    13958\n",
       "499       16\n",
       "Name: status_code, dtype: int64"
      ]
     },
     "execution_count": 22,
     "metadata": {},
     "output_type": "execute_result"
    }
   ],
   "source": [
    "df.status_code.value_counts()"
   ]
  },
  {
   "cell_type": "markdown",
   "id": "b9cbc182-b430-4859-9593-6fac95b88e8c",
   "metadata": {},
   "source": [
    "499 codes appear to be anomolous - are these linked with other features?"
   ]
  },
  {
   "cell_type": "code",
   "execution_count": 33,
   "id": "96f02614-8ea7-4a68-924f-f8a5d4bc4afa",
   "metadata": {},
   "outputs": [
    {
     "data": {
      "text/plain": [
       "Text(0, 0.5, 'Percentage')"
      ]
     },
     "execution_count": 33,
     "metadata": {},
     "output_type": "execute_result"
    },
    {
     "data": {
      "image/png": "[encoded data removed]",
      "text/plain": [
       "<Figure size 432x288 with 1 Axes>"
      ]
     },
     "metadata": {
      "needs_background": "light"
     },
     "output_type": "display_data"
    }
   ],
   "source": [
    "df[df.status_code=='499'].ip.value_counts(normalize=True).plot.bar()\n",
    "plt.title('499 Status Codes Come From Only Two IP Addresses')\n",
    "plt.ylabel('Percentage')"
   ]
  },
  {
   "cell_type": "code",
   "execution_count": 24,
   "id": "7ced7ca2-12e6-4611-b8bf-009cacc773dc",
   "metadata": {},
   "outputs": [
    {
     "data": {
      "text/plain": [
       "/api/v1/items             4\n",
       "/api/v1/sales?page=2      3\n",
       "/api/v1/sales?page=21     1\n",
       "/api/v1/sales?page=29     1\n",
       "/api/v1/sales?page=115    1\n",
       "/api/v1/sales?page=47     1\n",
       "/api/v1/sales?page=25     1\n",
       "/api/v1/sales?page=80     1\n",
       "/api/v1/sales?page=69     1\n",
       "/api/v1/sales?page=8      1\n",
       "/api/v1/sales?page=133    1\n",
       "Name: request_path, dtype: int64"
      ]
     },
     "execution_count": 24,
     "metadata": {},
     "output_type": "execute_result"
    }
   ],
   "source": [
    "df[df.status_code=='499'].request_path.value_counts()"
   ]
  },
  {
   "cell_type": "markdown",
   "id": "ef964a2d-8057-4590-ae61-e6b0d5ced406",
   "metadata": {},
   "source": [
    "The 499s come from only 2 IP addresses. Nearly 90% from 97.105.19.58, which is the most common IP address by far in the dataset. Independent of request path - all over sales pages and items."
   ]
  },
  {
   "cell_type": "code",
   "execution_count": 25,
   "id": "97a35aa4-453b-4e67-b6f4-59fa0b2ec92d",
   "metadata": {},
   "outputs": [
    {
     "data": {
      "image/png": "[encoded data removed]",
      "text/plain": [
       "<Figure size 432x288 with 1 Axes>"
      ]
     },
     "metadata": {
      "needs_background": "light"
     },
     "output_type": "display_data"
    }
   ],
   "source": [
    "df.user_agent.value_counts(normalize=True).head(2).plot.bar()\n",
    "plt.title('User Agent Percentile - top 2 agents')\n",
    "None"
   ]
  },
  {
   "cell_type": "code",
   "execution_count": 37,
   "id": "07514e75-978e-4d1b-9d16-4a24e38a64ae",
   "metadata": {},
   "outputs": [
    {
     "data": {
      "text/html": [
       "<div>\n",
       "<style scoped>\n",
       "    .dataframe tbody tr th:only-of-type {\n",
       "        vertical-align: middle;\n",
       "    }\n",
       "\n",
       "    .dataframe tbody tr th {\n",
       "        vertical-align: top;\n",
       "    }\n",
       "\n",
       "    .dataframe thead th {\n",
       "        text-align: right;\n",
       "    }\n",
       "</style>\n",
       "<table border=\"1\" class=\"dataframe\">\n",
       "  <thead>\n",
       "    <tr style=\"text-align: right;\">\n",
       "      <th></th>\n",
       "      <th></th>\n",
       "      <th>proba_status_given_ua</th>\n",
       "    </tr>\n",
       "    <tr>\n",
       "      <th>user_agent</th>\n",
       "      <th>status_code</th>\n",
       "      <th></th>\n",
       "    </tr>\n",
       "  </thead>\n",
       "  <tbody>\n",
       "    <tr>\n",
       "      <th>Mozilla/5.0 (Macintosh; Intel Mac OS X 10.14; rv:66.0) Gecko/20100101 Firefox/66.0</th>\n",
       "      <th>200</th>\n",
       "      <td>1.000000</td>\n",
       "    </tr>\n",
       "    <tr>\n",
       "      <th>Mozilla/5.0 (Macintosh; Intel Mac OS X 10_14_3) AppleWebKit/537.36 (KHTML, like Gecko) Chrome/72.0.3626.121 Safari/537.36</th>\n",
       "      <th>200</th>\n",
       "      <td>1.000000</td>\n",
       "    </tr>\n",
       "    <tr>\n",
       "      <th>Mozilla/5.0 (Macintosh; Intel Mac OS X 10_14_3) AppleWebKit/537.36 (KHTML, like Gecko) Chrome/73.0.3683.103 Safari/537.36</th>\n",
       "      <th>200</th>\n",
       "      <td>1.000000</td>\n",
       "    </tr>\n",
       "    <tr>\n",
       "      <th>Mozilla/5.0 (Macintosh; Intel Mac OS X 10_14_4) AppleWebKit/537.36 (KHTML, like Gecko) Chrome/73.0.3683.103 Safari/537.36</th>\n",
       "      <th>200</th>\n",
       "      <td>1.000000</td>\n",
       "    </tr>\n",
       "    <tr>\n",
       "      <th>Python-urllib/3.7</th>\n",
       "      <th>200</th>\n",
       "      <td>1.000000</td>\n",
       "    </tr>\n",
       "    <tr>\n",
       "      <th>Slackbot 1.0 (+https://api.slack.com/robots)</th>\n",
       "      <th>200</th>\n",
       "      <td>1.000000</td>\n",
       "    </tr>\n",
       "    <tr>\n",
       "      <th>Slackbot-LinkExpanding 1.0 (+https://api.slack.com/robots)</th>\n",
       "      <th>200</th>\n",
       "      <td>1.000000</td>\n",
       "    </tr>\n",
       "    <tr>\n",
       "      <th rowspan=\"2\" valign=\"top\">python-requests/2.20.1</th>\n",
       "      <th>200</th>\n",
       "      <td>0.997907</td>\n",
       "    </tr>\n",
       "    <tr>\n",
       "      <th>499</th>\n",
       "      <td>0.002093</td>\n",
       "    </tr>\n",
       "    <tr>\n",
       "      <th rowspan=\"2\" valign=\"top\">python-requests/2.21.0</th>\n",
       "      <th>200</th>\n",
       "      <td>0.999000</td>\n",
       "    </tr>\n",
       "    <tr>\n",
       "      <th>499</th>\n",
       "      <td>0.001000</td>\n",
       "    </tr>\n",
       "  </tbody>\n",
       "</table>\n",
       "</div>"
      ],
      "text/plain": [
       "                                                                proba_status_given_ua\n",
       "user_agent                                         status_code                       \n",
       "Mozilla/5.0 (Macintosh; Intel Mac OS X 10.14; r... 200                       1.000000\n",
       "Mozilla/5.0 (Macintosh; Intel Mac OS X 10_14_3)... 200                       1.000000\n",
       "Mozilla/5.0 (Macintosh; Intel Mac OS X 10_14_3)... 200                       1.000000\n",
       "Mozilla/5.0 (Macintosh; Intel Mac OS X 10_14_4)... 200                       1.000000\n",
       "Python-urllib/3.7                                  200                       1.000000\n",
       "Slackbot 1.0 (+https://api.slack.com/robots)       200                       1.000000\n",
       "Slackbot-LinkExpanding 1.0 (+https://api.slack.... 200                       1.000000\n",
       "python-requests/2.20.1                             200                       0.997907\n",
       "                                                   499                       0.002093\n",
       "python-requests/2.21.0                             200                       0.999000\n",
       "                                                   499                       0.001000"
      ]
     },
     "execution_count": 37,
     "metadata": {},
     "output_type": "execute_result"
    }
   ],
   "source": [
    "pd.DataFrame(df.groupby('user_agent').status_code.value_counts(normalize=True).rename('proba_status_given_ua'))"
   ]
  },
  {
   "cell_type": "markdown",
   "id": "04b809da-86b5-455b-a577-406b79c82abe",
   "metadata": {},
   "source": [
    "Only expect 499s to come from python-requests. Even from python-requests it is very low probability."
   ]
  },
  {
   "cell_type": "code",
   "execution_count": 27,
   "id": "718c50ac-081f-41dd-9ecb-7fa6b2e378b6",
   "metadata": {},
   "outputs": [
    {
     "data": {
      "text/plain": [
       "Text(0.5, 1.0, 'Size of Request Binned')"
      ]
     },
     "execution_count": 27,
     "metadata": {},
     "output_type": "execute_result"
    },
    {
     "data": {
      "image/png": "[encoded data removed]",
      "text/plain": [
       "<Figure size 432x288 with 1 Axes>"
      ]
     },
     "metadata": {
      "needs_background": "light"
     },
     "output_type": "display_data"
    }
   ],
   "source": [
    "pd.cut(df['size'],4, labels=['small','medium','large','gigantic']).value_counts().plot.bar()\n",
    "plt.title('Size of Request Binned')"
   ]
  },
  {
   "cell_type": "code",
   "execution_count": 39,
   "id": "6c6dd27d-3268-4865-b87b-aab1064fd069",
   "metadata": {},
   "outputs": [],
   "source": [
    "df['size_bin'] = pd.cut(df['size'],4, labels=['small','medium','large','gigantic'])"
   ]
  },
  {
   "cell_type": "code",
   "execution_count": 45,
   "id": "4a288c8d-07a7-4e13-af9a-1bb0a272b98e",
   "metadata": {},
   "outputs": [
    {
     "data": {
      "text/html": [
       "<div>\n",
       "<style scoped>\n",
       "    .dataframe tbody tr th:only-of-type {\n",
       "        vertical-align: middle;\n",
       "    }\n",
       "\n",
       "    .dataframe tbody tr th {\n",
       "        vertical-align: top;\n",
       "    }\n",
       "\n",
       "    .dataframe thead th {\n",
       "        text-align: right;\n",
       "    }\n",
       "</style>\n",
       "<table border=\"1\" class=\"dataframe\">\n",
       "  <thead>\n",
       "    <tr style=\"text-align: right;\">\n",
       "      <th></th>\n",
       "      <th></th>\n",
       "      <th>proba_status_given_size</th>\n",
       "    </tr>\n",
       "    <tr>\n",
       "      <th>size_bin</th>\n",
       "      <th>status_code</th>\n",
       "      <th></th>\n",
       "    </tr>\n",
       "  </thead>\n",
       "  <tbody>\n",
       "    <tr>\n",
       "      <th rowspan=\"2\" valign=\"top\">small</th>\n",
       "      <th>200</th>\n",
       "      <td>0.989893</td>\n",
       "    </tr>\n",
       "    <tr>\n",
       "      <th>499</th>\n",
       "      <td>0.010107</td>\n",
       "    </tr>\n",
       "    <tr>\n",
       "      <th>medium</th>\n",
       "      <th>200</th>\n",
       "      <td>1.000000</td>\n",
       "    </tr>\n",
       "    <tr>\n",
       "      <th>large</th>\n",
       "      <th>200</th>\n",
       "      <td>1.000000</td>\n",
       "    </tr>\n",
       "    <tr>\n",
       "      <th>gigantic</th>\n",
       "      <th>200</th>\n",
       "      <td>1.000000</td>\n",
       "    </tr>\n",
       "  </tbody>\n",
       "</table>\n",
       "</div>"
      ],
      "text/plain": [
       "                      proba_status_given_size\n",
       "size_bin status_code                         \n",
       "small    200                         0.989893\n",
       "         499                         0.010107\n",
       "medium   200                         1.000000\n",
       "large    200                         1.000000\n",
       "gigantic 200                         1.000000"
      ]
     },
     "execution_count": 45,
     "metadata": {},
     "output_type": "execute_result"
    }
   ],
   "source": [
    "pd.DataFrame(df.groupby('size_bin').status_code.value_counts(normalize=True).rename('proba_status_given_size'))"
   ]
  },
  {
   "cell_type": "markdown",
   "id": "66b776fc-a6d4-4f6a-80e0-b73b87d8f0a7",
   "metadata": {},
   "source": [
    "Would only expect a 499 from a small size"
   ]
  },
  {
   "cell_type": "markdown",
   "id": "133aae04-aa64-4d98-bd7f-f29491fd2139",
   "metadata": {},
   "source": [
    "### Based on the results of exploration:\n",
    "- 499s are quite rare status codes\n",
    "- 499s only expected from python-requests user agent\n",
    "- Would only expect 499s from small size and from only two IP addresses\n",
    "- Timing on the 499s is consistent with when most requests come in (19-22)\n",
    "- 499s seem to be independent of request path, though api/items is most common"
   ]
  },
  {
   "cell_type": "code",
   "execution_count": null,
   "id": "a6fa49ef-65f2-47b1-884f-d65a5ccd98b9",
   "metadata": {},
   "outputs": [],
   "source": []
  }
 ],
 "metadata": {
  "kernelspec": {
   "display_name": "Python 3 (ipykernel)",
   "language": "python",
   "name": "python3"
  },
  "language_info": {
   "codemirror_mode": {
    "name": "ipython",
    "version": 3
   },
   "file_extension": ".py",
   "mimetype": "text/x-python",
   "name": "python",
   "nbconvert_exporter": "python",
   "pygments_lexer": "ipython3",
   "version": "3.9.7"
  }
 },
 "nbformat": 4,
 "nbformat_minor": 5
}
